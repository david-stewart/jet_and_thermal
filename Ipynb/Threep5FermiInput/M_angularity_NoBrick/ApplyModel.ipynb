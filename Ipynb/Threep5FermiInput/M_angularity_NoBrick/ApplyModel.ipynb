{
 "cells": [
  {
   "cell_type": "code",
   "execution_count": 1,
   "metadata": {},
   "outputs": [
    {
     "name": "stderr",
     "output_type": "stream",
     "text": [
      "/home/davidstewart/penv-ML/lib/python3.10/site-packages/pandas/core/computation/expressions.py:21: UserWarning: Pandas requires version '2.8.4' or newer of 'numexpr' (version '2.8.1' currently installed).\n",
      "  from pandas.core.computation.check import NUMEXPR_INSTALLED\n",
      "/home/davidstewart/penv-ML/lib/python3.10/site-packages/pandas/core/arrays/masked.py:60: UserWarning: Pandas requires version '1.3.6' or newer of 'bottleneck' (version '1.3.2' currently installed).\n",
      "  from pandas.core import (\n"
     ]
    },
    {
     "name": "stdout",
     "output_type": "stream",
     "text": [
      "Welcome to JupyROOT 6.28/10\n"
     ]
    },
    {
     "name": "stderr",
     "output_type": "stream",
     "text": [
      "/usr/lib/python3/dist-packages/scipy/__init__.py:146: UserWarning: A NumPy version >=1.17.3 and <1.25.0 is required for this version of SciPy (detected version 1.26.4\n",
      "  warnings.warn(f\"A NumPy version >={np_minversion} and <{np_maxversion}\"\n"
     ]
    },
    {
     "name": "stdout",
     "output_type": "stream",
     "text": [
      "INFO:tensorflow:Mixed precision compatibility check (mixed_float16): OK\n",
      "Your GPUs will likely run quickly with dtype policy mixed_float16 as they all have compute capability of at least 7.0\n",
      "Reading 0 of 16 : file ../Xsec_groups/df_Xsec_9_clean.parquet\n",
      "pre-match-cut size: 1772204\n",
      "post-match-cut size: 1772204\n",
      "55382/55382 [==============================] - 53s 946us/step\n"
     ]
    },
    {
     "name": "stderr",
     "output_type": "stream",
     "text": [
      "/home/davidstewart/penv-ML/lib/python3.10/site-packages/pandas/core/nanops.py:1487: RuntimeWarning: overflow encountered in cast\n",
      "  return dtype.type(n)\n",
      "/home/davidstewart/penv-ML/lib/python3.10/site-packages/numpy/core/_methods.py:49: RuntimeWarning: overflow encountered in reduce\n",
      "  return umr_sum(a, axis, dtype, out, keepdims, initial, where)\n",
      "/home/davidstewart/penv-ML/lib/python3.10/site-packages/pandas/core/nanops.py:731: RuntimeWarning: invalid value encountered in scalar divide\n",
      "  the_mean = the_sum / count if count > 0 else np.nan\n"
     ]
    },
    {
     "name": "stdout",
     "output_type": "stream",
     "text": [
      "count    1.772204e+06\n",
      "mean              NaN\n",
      "std      0.000000e+00\n",
      "min      1.547852e+00\n",
      "25%      1.770312e+01\n",
      "50%      2.442188e+01\n",
      "75%      3.037500e+01\n",
      "max      5.684375e+01\n",
      "Name: corr_pt, dtype: float64\n",
      "Reading 1 of 16 : file ../Xsec_groups/df_Xsec_6_clean.parquet\n",
      "pre-match-cut size: 2053913\n",
      "post-match-cut size: 2053913\n",
      "64185/64185 [==============================] - 61s 955us/step\n"
     ]
    },
    {
     "name": "stderr",
     "output_type": "stream",
     "text": [
      "/home/davidstewart/penv-ML/lib/python3.10/site-packages/pandas/core/nanops.py:1487: RuntimeWarning: overflow encountered in cast\n",
      "  return dtype.type(n)\n",
      "/home/davidstewart/penv-ML/lib/python3.10/site-packages/numpy/core/_methods.py:49: RuntimeWarning: overflow encountered in reduce\n",
      "  return umr_sum(a, axis, dtype, out, keepdims, initial, where)\n",
      "/home/davidstewart/penv-ML/lib/python3.10/site-packages/pandas/core/nanops.py:731: RuntimeWarning: invalid value encountered in scalar divide\n",
      "  the_mean = the_sum / count if count > 0 else np.nan\n"
     ]
    },
    {
     "name": "stdout",
     "output_type": "stream",
     "text": [
      "count    2.053913e+06\n",
      "mean              NaN\n",
      "std      0.000000e+00\n",
      "min      1.990234e+00\n",
      "25%      2.770312e+01\n",
      "50%      3.518750e+01\n",
      "75%      4.140625e+01\n",
      "max      5.996875e+01\n",
      "Name: corr_pt, dtype: float64\n",
      "Reading 2 of 16 : file ../Xsec_groups/df_Xsec_14_clean.parquet\n",
      "pre-match-cut size: 1111193\n",
      "post-match-cut size: 1111193\n",
      "34725/34725 [==============================] - 33s 951us/step\n"
     ]
    },
    {
     "name": "stderr",
     "output_type": "stream",
     "text": [
      "/home/davidstewart/penv-ML/lib/python3.10/site-packages/pandas/core/nanops.py:1487: RuntimeWarning: overflow encountered in cast\n",
      "  return dtype.type(n)\n",
      "/home/davidstewart/penv-ML/lib/python3.10/site-packages/numpy/core/_methods.py:49: RuntimeWarning: overflow encountered in reduce\n",
      "  return umr_sum(a, axis, dtype, out, keepdims, initial, where)\n",
      "/home/davidstewart/penv-ML/lib/python3.10/site-packages/pandas/core/nanops.py:731: RuntimeWarning: invalid value encountered in scalar divide\n",
      "  the_mean = the_sum / count if count > 0 else np.nan\n"
     ]
    },
    {
     "name": "stdout",
     "output_type": "stream",
     "text": [
      "count    1.111193e+06\n",
      "mean              NaN\n",
      "std      0.000000e+00\n",
      "min      1.286133e+00\n",
      "25%      5.375000e+00\n",
      "50%      8.218750e+00\n",
      "75%      1.182031e+01\n",
      "max      4.018750e+01\n",
      "Name: corr_pt, dtype: float64\n",
      "Reading 3 of 16 : file ../Xsec_groups/df_Xsec_2_clean.parquet\n",
      "pre-match-cut size: 2412893\n",
      "post-match-cut size: 2412893\n",
      "75403/75403 [==============================] - 70s 922us/step\n"
     ]
    },
    {
     "name": "stderr",
     "output_type": "stream",
     "text": [
      "/home/davidstewart/penv-ML/lib/python3.10/site-packages/pandas/core/nanops.py:1487: RuntimeWarning: overflow encountered in cast\n",
      "  return dtype.type(n)\n",
      "/home/davidstewart/penv-ML/lib/python3.10/site-packages/numpy/core/_methods.py:49: RuntimeWarning: overflow encountered in reduce\n",
      "  return umr_sum(a, axis, dtype, out, keepdims, initial, where)\n",
      "/home/davidstewart/penv-ML/lib/python3.10/site-packages/pandas/core/nanops.py:731: RuntimeWarning: invalid value encountered in scalar divide\n",
      "  the_mean = the_sum / count if count > 0 else np.nan\n"
     ]
    },
    {
     "name": "stdout",
     "output_type": "stream",
     "text": [
      "count    2.412893e+06\n",
      "mean              NaN\n",
      "std      0.000000e+00\n",
      "min      2.355469e+00\n",
      "25%      4.112500e+01\n",
      "50%      4.878125e+01\n",
      "75%      5.415625e+01\n",
      "max      6.350000e+01\n",
      "Name: corr_pt, dtype: float64\n",
      "Reading 4 of 16 : file ../Xsec_groups/df_Xsec_12_clean.parquet\n",
      "pre-match-cut size: 1412527\n",
      "post-match-cut size: 1412527\n",
      "44142/44142 [==============================] - 41s 935us/step\n"
     ]
    },
    {
     "name": "stderr",
     "output_type": "stream",
     "text": [
      "/home/davidstewart/penv-ML/lib/python3.10/site-packages/pandas/core/nanops.py:1487: RuntimeWarning: overflow encountered in cast\n",
      "  return dtype.type(n)\n",
      "/home/davidstewart/penv-ML/lib/python3.10/site-packages/numpy/core/_methods.py:49: RuntimeWarning: overflow encountered in reduce\n",
      "  return umr_sum(a, axis, dtype, out, keepdims, initial, where)\n",
      "/home/davidstewart/penv-ML/lib/python3.10/site-packages/pandas/core/nanops.py:731: RuntimeWarning: invalid value encountered in scalar divide\n",
      "  the_mean = the_sum / count if count > 0 else np.nan\n"
     ]
    },
    {
     "name": "stdout",
     "output_type": "stream",
     "text": [
      "count    1.412527e+06\n",
      "mean              NaN\n",
      "std      0.000000e+00\n",
      "min      9.375000e-01\n",
      "25%      9.000000e+00\n",
      "50%      1.350781e+01\n",
      "75%      1.878125e+01\n",
      "max      4.946875e+01\n",
      "Name: corr_pt, dtype: float64\n",
      "Reading 5 of 16 : file ../Xsec_groups/df_Xsec_1_clean.parquet\n",
      "pre-match-cut size: 2507006\n",
      "post-match-cut size: 2507006\n",
      "78344/78344 [==============================] - 73s 934us/step\n"
     ]
    },
    {
     "name": "stderr",
     "output_type": "stream",
     "text": [
      "/home/davidstewart/penv-ML/lib/python3.10/site-packages/pandas/core/nanops.py:1487: RuntimeWarning: overflow encountered in cast\n",
      "  return dtype.type(n)\n",
      "/home/davidstewart/penv-ML/lib/python3.10/site-packages/numpy/core/_methods.py:49: RuntimeWarning: overflow encountered in reduce\n",
      "  return umr_sum(a, axis, dtype, out, keepdims, initial, where)\n",
      "/home/davidstewart/penv-ML/lib/python3.10/site-packages/pandas/core/nanops.py:731: RuntimeWarning: invalid value encountered in scalar divide\n",
      "  the_mean = the_sum / count if count > 0 else np.nan\n"
     ]
    },
    {
     "name": "stdout",
     "output_type": "stream",
     "text": [
      "count    2.507006e+06\n",
      "mean              NaN\n",
      "std      0.000000e+00\n",
      "min      1.723633e+00\n",
      "25%      4.434375e+01\n",
      "50%      5.165625e+01\n",
      "75%      5.587500e+01\n",
      "max      6.637500e+01\n",
      "Name: corr_pt, dtype: float64\n",
      "Reading 6 of 16 : file ../Xsec_groups/df_Xsec_0_clean.parquet\n",
      "pre-match-cut size: 2594597\n",
      "post-match-cut size: 2594597\n",
      "81082/81082 [==============================] - 71s 880us/step\n"
     ]
    },
    {
     "name": "stderr",
     "output_type": "stream",
     "text": [
      "/home/davidstewart/penv-ML/lib/python3.10/site-packages/pandas/core/nanops.py:1487: RuntimeWarning: overflow encountered in cast\n",
      "  return dtype.type(n)\n",
      "/home/davidstewart/penv-ML/lib/python3.10/site-packages/numpy/core/_methods.py:49: RuntimeWarning: overflow encountered in reduce\n",
      "  return umr_sum(a, axis, dtype, out, keepdims, initial, where)\n",
      "/home/davidstewart/penv-ML/lib/python3.10/site-packages/pandas/core/nanops.py:731: RuntimeWarning: invalid value encountered in scalar divide\n",
      "  the_mean = the_sum / count if count > 0 else np.nan\n"
     ]
    },
    {
     "name": "stdout",
     "output_type": "stream",
     "text": [
      "count    2.594597e+06\n",
      "mean              NaN\n",
      "std      0.000000e+00\n",
      "min      2.429688e+00\n",
      "25%      4.728125e+01\n",
      "50%      5.412500e+01\n",
      "75%      5.703125e+01\n",
      "max      6.868750e+01\n",
      "Name: corr_pt, dtype: float64\n",
      "Reading 7 of 16 : file ../Xsec_groups/df_Xsec_5_clean.parquet\n",
      "pre-match-cut size: 2140449\n",
      "post-match-cut size: 2140449\n",
      "66890/66890 [==============================] - 61s 915us/step\n"
     ]
    },
    {
     "name": "stderr",
     "output_type": "stream",
     "text": [
      "/home/davidstewart/penv-ML/lib/python3.10/site-packages/pandas/core/nanops.py:1487: RuntimeWarning: overflow encountered in cast\n",
      "  return dtype.type(n)\n",
      "/home/davidstewart/penv-ML/lib/python3.10/site-packages/numpy/core/_methods.py:49: RuntimeWarning: overflow encountered in reduce\n",
      "  return umr_sum(a, axis, dtype, out, keepdims, initial, where)\n",
      "/home/davidstewart/penv-ML/lib/python3.10/site-packages/pandas/core/nanops.py:731: RuntimeWarning: invalid value encountered in scalar divide\n",
      "  the_mean = the_sum / count if count > 0 else np.nan\n"
     ]
    },
    {
     "name": "stdout",
     "output_type": "stream",
     "text": [
      "count    2.140449e+06\n",
      "mean              NaN\n",
      "std      0.000000e+00\n",
      "min      2.167969e+00\n",
      "25%      3.117188e+01\n",
      "50%      3.878125e+01\n",
      "75%      4.500000e+01\n",
      "max      6.046875e+01\n",
      "Name: corr_pt, dtype: float64\n",
      "Reading 8 of 16 : file ../Xsec_groups/df_Xsec_15_clean.parquet\n",
      "pre-match-cut size: 910829\n",
      "post-match-cut size: 910829\n",
      "28464/28464 [==============================] - 27s 963us/step\n"
     ]
    },
    {
     "name": "stderr",
     "output_type": "stream",
     "text": [
      "/home/davidstewart/penv-ML/lib/python3.10/site-packages/pandas/core/nanops.py:1487: RuntimeWarning: overflow encountered in cast\n",
      "  return dtype.type(n)\n",
      "/home/davidstewart/penv-ML/lib/python3.10/site-packages/numpy/core/_methods.py:49: RuntimeWarning: overflow encountered in reduce\n",
      "  return umr_sum(a, axis, dtype, out, keepdims, initial, where)\n",
      "/home/davidstewart/penv-ML/lib/python3.10/site-packages/pandas/core/nanops.py:731: RuntimeWarning: invalid value encountered in scalar divide\n",
      "  the_mean = the_sum / count if count > 0 else np.nan\n"
     ]
    },
    {
     "name": "stdout",
     "output_type": "stream",
     "text": [
      "count    910829.000000\n",
      "mean               NaN\n",
      "std           0.000000\n",
      "min           1.119141\n",
      "25%           4.906250\n",
      "50%           6.468750\n",
      "75%           9.328125\n",
      "max          35.593750\n",
      "Name: corr_pt, dtype: float64\n",
      "Reading 9 of 16 : file ../Xsec_groups/df_Xsec_8_clean.parquet\n",
      "pre-match-cut size: 1873396\n",
      "post-match-cut size: 1873396\n",
      "58544/58544 [==============================] - 56s 949us/step\n"
     ]
    },
    {
     "name": "stderr",
     "output_type": "stream",
     "text": [
      "/home/davidstewart/penv-ML/lib/python3.10/site-packages/pandas/core/nanops.py:1487: RuntimeWarning: overflow encountered in cast\n",
      "  return dtype.type(n)\n",
      "/home/davidstewart/penv-ML/lib/python3.10/site-packages/numpy/core/_methods.py:49: RuntimeWarning: overflow encountered in reduce\n",
      "  return umr_sum(a, axis, dtype, out, keepdims, initial, where)\n",
      "/home/davidstewart/penv-ML/lib/python3.10/site-packages/pandas/core/nanops.py:731: RuntimeWarning: invalid value encountered in scalar divide\n",
      "  the_mean = the_sum / count if count > 0 else np.nan\n"
     ]
    },
    {
     "name": "stdout",
     "output_type": "stream",
     "text": [
      "count    1.873396e+06\n",
      "mean              NaN\n",
      "std      0.000000e+00\n",
      "min      1.922852e+00\n",
      "25%      2.092188e+01\n",
      "50%      2.798438e+01\n",
      "75%      3.409375e+01\n",
      "max      5.728125e+01\n",
      "Name: corr_pt, dtype: float64\n",
      "Reading 10 of 16 : file ../Xsec_groups/df_Xsec_3_clean.parquet\n",
      "pre-match-cut size: 2328154\n",
      "post-match-cut size: 2328154\n",
      "72755/72755 [==============================] - 66s 901us/step\n"
     ]
    },
    {
     "name": "stderr",
     "output_type": "stream",
     "text": [
      "/home/davidstewart/penv-ML/lib/python3.10/site-packages/pandas/core/nanops.py:1487: RuntimeWarning: overflow encountered in cast\n",
      "  return dtype.type(n)\n",
      "/home/davidstewart/penv-ML/lib/python3.10/site-packages/numpy/core/_methods.py:49: RuntimeWarning: overflow encountered in reduce\n",
      "  return umr_sum(a, axis, dtype, out, keepdims, initial, where)\n",
      "/home/davidstewart/penv-ML/lib/python3.10/site-packages/pandas/core/nanops.py:731: RuntimeWarning: invalid value encountered in scalar divide\n",
      "  the_mean = the_sum / count if count > 0 else np.nan\n"
     ]
    },
    {
     "name": "stdout",
     "output_type": "stream",
     "text": [
      "count    2.328154e+06\n",
      "mean              NaN\n",
      "std      0.000000e+00\n",
      "min      1.936523e+00\n",
      "25%      3.793750e+01\n",
      "50%      4.575000e+01\n",
      "75%      5.143750e+01\n",
      "max      6.284375e+01\n",
      "Name: corr_pt, dtype: float64\n",
      "Reading 11 of 16 : file ../Xsec_groups/df_Xsec_4_clean.parquet\n",
      "pre-match-cut size: 2231697\n",
      "post-match-cut size: 2231697\n",
      "69741/69741 [==============================] - 65s 934us/step\n"
     ]
    },
    {
     "name": "stderr",
     "output_type": "stream",
     "text": [
      "/home/davidstewart/penv-ML/lib/python3.10/site-packages/pandas/core/nanops.py:1487: RuntimeWarning: overflow encountered in cast\n",
      "  return dtype.type(n)\n",
      "/home/davidstewart/penv-ML/lib/python3.10/site-packages/numpy/core/_methods.py:49: RuntimeWarning: overflow encountered in reduce\n",
      "  return umr_sum(a, axis, dtype, out, keepdims, initial, where)\n",
      "/home/davidstewart/penv-ML/lib/python3.10/site-packages/pandas/core/nanops.py:731: RuntimeWarning: invalid value encountered in scalar divide\n",
      "  the_mean = the_sum / count if count > 0 else np.nan\n"
     ]
    },
    {
     "name": "stdout",
     "output_type": "stream",
     "text": [
      "count    2.231697e+06\n",
      "mean              NaN\n",
      "std      0.000000e+00\n",
      "min      1.846680e+00\n",
      "25%      3.465625e+01\n",
      "50%      4.231250e+01\n",
      "75%      4.840625e+01\n",
      "max      6.221875e+01\n",
      "Name: corr_pt, dtype: float64\n",
      "Reading 12 of 16 : file ../Xsec_groups/df_Xsec_13_clean.parquet\n",
      "pre-match-cut size: 1273512\n",
      "post-match-cut size: 1273512\n",
      "39798/39798 [==============================] - 35s 886us/step\n"
     ]
    },
    {
     "name": "stderr",
     "output_type": "stream",
     "text": [
      "/home/davidstewart/penv-ML/lib/python3.10/site-packages/pandas/core/nanops.py:1487: RuntimeWarning: overflow encountered in cast\n",
      "  return dtype.type(n)\n",
      "/home/davidstewart/penv-ML/lib/python3.10/site-packages/numpy/core/_methods.py:49: RuntimeWarning: overflow encountered in reduce\n",
      "  return umr_sum(a, axis, dtype, out, keepdims, initial, where)\n",
      "/home/davidstewart/penv-ML/lib/python3.10/site-packages/pandas/core/nanops.py:731: RuntimeWarning: invalid value encountered in scalar divide\n",
      "  the_mean = the_sum / count if count > 0 else np.nan\n"
     ]
    },
    {
     "name": "stdout",
     "output_type": "stream",
     "text": [
      "count    1.273512e+06\n",
      "mean              NaN\n",
      "std      0.000000e+00\n",
      "min      1.556641e+00\n",
      "25%      7.023438e+00\n",
      "50%      1.069531e+01\n",
      "75%      1.503125e+01\n",
      "max      4.409375e+01\n",
      "Name: corr_pt, dtype: float64\n",
      "Reading 13 of 16 : file ../Xsec_groups/df_Xsec_10_clean.parquet\n",
      "pre-match-cut size: 1663161\n",
      "post-match-cut size: 1663161\n",
      "51974/51974 [==============================] - 49s 936us/step\n"
     ]
    },
    {
     "name": "stderr",
     "output_type": "stream",
     "text": [
      "/home/davidstewart/penv-ML/lib/python3.10/site-packages/pandas/core/nanops.py:1487: RuntimeWarning: overflow encountered in cast\n",
      "  return dtype.type(n)\n",
      "/home/davidstewart/penv-ML/lib/python3.10/site-packages/numpy/core/_methods.py:49: RuntimeWarning: overflow encountered in reduce\n",
      "  return umr_sum(a, axis, dtype, out, keepdims, initial, where)\n",
      "/home/davidstewart/penv-ML/lib/python3.10/site-packages/pandas/core/nanops.py:731: RuntimeWarning: invalid value encountered in scalar divide\n",
      "  the_mean = the_sum / count if count > 0 else np.nan\n"
     ]
    },
    {
     "name": "stdout",
     "output_type": "stream",
     "text": [
      "count    1.663161e+06\n",
      "mean              NaN\n",
      "std      0.000000e+00\n",
      "min      1.416016e+00\n",
      "25%      1.440625e+01\n",
      "50%      2.064062e+01\n",
      "75%      2.653125e+01\n",
      "max      5.518750e+01\n",
      "Name: corr_pt, dtype: float64\n",
      "Reading 14 of 16 : file ../Xsec_groups/df_Xsec_7_clean.parquet\n",
      "pre-match-cut size: 1963583\n",
      "post-match-cut size: 1963583\n",
      "61362/61362 [==============================] - 57s 935us/step\n"
     ]
    },
    {
     "name": "stderr",
     "output_type": "stream",
     "text": [
      "/home/davidstewart/penv-ML/lib/python3.10/site-packages/pandas/core/nanops.py:1487: RuntimeWarning: overflow encountered in cast\n",
      "  return dtype.type(n)\n",
      "/home/davidstewart/penv-ML/lib/python3.10/site-packages/numpy/core/_methods.py:49: RuntimeWarning: overflow encountered in reduce\n",
      "  return umr_sum(a, axis, dtype, out, keepdims, initial, where)\n",
      "/home/davidstewart/penv-ML/lib/python3.10/site-packages/pandas/core/nanops.py:731: RuntimeWarning: invalid value encountered in scalar divide\n",
      "  the_mean = the_sum / count if count > 0 else np.nan\n"
     ]
    },
    {
     "name": "stdout",
     "output_type": "stream",
     "text": [
      "count    1.963583e+06\n",
      "mean              NaN\n",
      "std      0.000000e+00\n",
      "min      1.549805e+00\n",
      "25%      2.426562e+01\n",
      "50%      3.156250e+01\n",
      "75%      3.775000e+01\n",
      "max      5.871875e+01\n",
      "Name: corr_pt, dtype: float64\n",
      "Reading 15 of 16 : file ../Xsec_groups/df_Xsec_11_clean.parquet\n",
      "pre-match-cut size: 1551481\n",
      "post-match-cut size: 1551481\n",
      "48484/48484 [==============================] - 45s 923us/step\n"
     ]
    },
    {
     "name": "stderr",
     "output_type": "stream",
     "text": [
      "/home/davidstewart/penv-ML/lib/python3.10/site-packages/pandas/core/nanops.py:1487: RuntimeWarning: overflow encountered in cast\n",
      "  return dtype.type(n)\n",
      "/home/davidstewart/penv-ML/lib/python3.10/site-packages/numpy/core/_methods.py:49: RuntimeWarning: overflow encountered in reduce\n",
      "  return umr_sum(a, axis, dtype, out, keepdims, initial, where)\n",
      "/home/davidstewart/penv-ML/lib/python3.10/site-packages/pandas/core/nanops.py:731: RuntimeWarning: invalid value encountered in scalar divide\n",
      "  the_mean = the_sum / count if count > 0 else np.nan\n"
     ]
    },
    {
     "name": "stdout",
     "output_type": "stream",
     "text": [
      "count    1.551481e+06\n",
      "mean              NaN\n",
      "std      0.000000e+00\n",
      "min      1.724609e+00\n",
      "25%      1.157031e+01\n",
      "50%      1.701562e+01\n",
      "75%      2.259375e+01\n",
      "max      5.084375e+01\n",
      "Name: corr_pt, dtype: float64\n",
      "Done.\n"
     ]
    }
   ],
   "source": [
    "'''\n",
    "This cell: \n",
    "    read-in the Xsec_group_#.parquet files, correct, and write the short output locall\n",
    "'''\n",
    "\n",
    "import sys\n",
    "import os\n",
    "sys.path.append(os.path.abspath('../../'))\n",
    "from RunModelPrediction import runModelPrediction\n",
    "runModelPrediction('../../NeuralNetwork/train/angularity_W/')\n"
   ]
  },
  {
   "cell_type": "code",
   "execution_count": null,
   "metadata": {},
   "outputs": [],
   "source": []
  }
 ],
 "metadata": {
  "kernelspec": {
   "display_name": "penv_ML",
   "language": "python",
   "name": "penv_ml"
  },
  "language_info": {
   "codemirror_mode": {
    "name": "ipython",
    "version": 3
   },
   "file_extension": ".py",
   "mimetype": "text/x-python",
   "name": "python",
   "nbconvert_exporter": "python",
   "pygments_lexer": "ipython3",
   "version": "3.10.12"
  }
 },
 "nbformat": 4,
 "nbformat_minor": 4
}
