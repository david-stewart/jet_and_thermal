{
 "cells": [
  {
   "cell_type": "code",
   "execution_count": 1,
   "metadata": {},
   "outputs": [
    {
     "name": "stderr",
     "output_type": "stream",
     "text": [
      "/home/davidstewart/penv-ML/lib/python3.10/site-packages/pandas/core/computation/expressions.py:21: UserWarning: Pandas requires version '2.8.4' or newer of 'numexpr' (version '2.8.1' currently installed).\n",
      "  from pandas.core.computation.check import NUMEXPR_INSTALLED\n",
      "/home/davidstewart/penv-ML/lib/python3.10/site-packages/pandas/core/arrays/masked.py:60: UserWarning: Pandas requires version '1.3.6' or newer of 'bottleneck' (version '1.3.2' currently installed).\n",
      "  from pandas.core import (\n"
     ]
    },
    {
     "name": "stdout",
     "output_type": "stream",
     "text": [
      "Welcome to JupyROOT 6.28/10\n"
     ]
    },
    {
     "name": "stderr",
     "output_type": "stream",
     "text": [
      "/usr/lib/python3/dist-packages/scipy/__init__.py:146: UserWarning: A NumPy version >=1.17.3 and <1.25.0 is required for this version of SciPy (detected version 1.26.4\n",
      "  warnings.warn(f\"A NumPy version >={np_minversion} and <{np_maxversion}\"\n"
     ]
    },
    {
     "name": "stdout",
     "output_type": "stream",
     "text": [
      "INFO:tensorflow:Mixed precision compatibility check (mixed_float16): OK\n",
      "Your GPUs will likely run quickly with dtype policy mixed_float16 as they all have compute capability of at least 7.0\n",
      "Reading 0 of 16 : file ../Xsec_groups/df_Xsec_9_clean.parquet\n",
      "pre-match-cut size: 1772204\n",
      "post-match-cut size: 1772204\n",
      "55382/55382 [==============================] - 54s 966us/step\n"
     ]
    },
    {
     "name": "stderr",
     "output_type": "stream",
     "text": [
      "/home/davidstewart/penv-ML/lib/python3.10/site-packages/pandas/core/nanops.py:1487: RuntimeWarning: overflow encountered in cast\n",
      "  return dtype.type(n)\n",
      "/home/davidstewart/penv-ML/lib/python3.10/site-packages/numpy/core/_methods.py:49: RuntimeWarning: overflow encountered in reduce\n",
      "  return umr_sum(a, axis, dtype, out, keepdims, initial, where)\n",
      "/home/davidstewart/penv-ML/lib/python3.10/site-packages/pandas/core/nanops.py:731: RuntimeWarning: invalid value encountered in scalar divide\n",
      "  the_mean = the_sum / count if count > 0 else np.nan\n"
     ]
    },
    {
     "name": "stdout",
     "output_type": "stream",
     "text": [
      "count    1.772204e+06\n",
      "mean              NaN\n",
      "std      0.000000e+00\n",
      "min      2.921875e+00\n",
      "25%      1.620312e+01\n",
      "50%      2.250000e+01\n",
      "75%      2.856250e+01\n",
      "max      5.721875e+01\n",
      "Name: corr_pt, dtype: float64\n",
      "Reading 1 of 16 : file ../Xsec_groups/df_Xsec_6_clean.parquet\n",
      "pre-match-cut size: 2053913\n",
      "post-match-cut size: 2053913\n",
      "64185/64185 [==============================] - 60s 937us/step\n"
     ]
    },
    {
     "name": "stderr",
     "output_type": "stream",
     "text": [
      "/home/davidstewart/penv-ML/lib/python3.10/site-packages/pandas/core/nanops.py:1487: RuntimeWarning: overflow encountered in cast\n",
      "  return dtype.type(n)\n",
      "/home/davidstewart/penv-ML/lib/python3.10/site-packages/numpy/core/_methods.py:49: RuntimeWarning: overflow encountered in reduce\n",
      "  return umr_sum(a, axis, dtype, out, keepdims, initial, where)\n",
      "/home/davidstewart/penv-ML/lib/python3.10/site-packages/pandas/core/nanops.py:731: RuntimeWarning: invalid value encountered in scalar divide\n",
      "  the_mean = the_sum / count if count > 0 else np.nan\n"
     ]
    },
    {
     "name": "stdout",
     "output_type": "stream",
     "text": [
      "count    2.053913e+06\n",
      "mean              NaN\n",
      "std      0.000000e+00\n",
      "min      3.523438e+00\n",
      "25%      2.562500e+01\n",
      "50%      3.321875e+01\n",
      "75%      3.971875e+01\n",
      "max      5.806250e+01\n",
      "Name: corr_pt, dtype: float64\n",
      "Reading 2 of 16 : file ../Xsec_groups/df_Xsec_14_clean.parquet\n",
      "pre-match-cut size: 1111193\n",
      "post-match-cut size: 1111193\n",
      "34725/34725 [==============================] - 33s 936us/step\n"
     ]
    },
    {
     "name": "stderr",
     "output_type": "stream",
     "text": [
      "/home/davidstewart/penv-ML/lib/python3.10/site-packages/pandas/core/nanops.py:1487: RuntimeWarning: overflow encountered in cast\n",
      "  return dtype.type(n)\n",
      "/home/davidstewart/penv-ML/lib/python3.10/site-packages/numpy/core/_methods.py:49: RuntimeWarning: overflow encountered in reduce\n",
      "  return umr_sum(a, axis, dtype, out, keepdims, initial, where)\n",
      "/home/davidstewart/penv-ML/lib/python3.10/site-packages/pandas/core/nanops.py:731: RuntimeWarning: invalid value encountered in scalar divide\n",
      "  the_mean = the_sum / count if count > 0 else np.nan\n"
     ]
    },
    {
     "name": "stdout",
     "output_type": "stream",
     "text": [
      "count    1.111193e+06\n",
      "mean              NaN\n",
      "std      0.000000e+00\n",
      "min      2.695312e+00\n",
      "25%      5.812500e+00\n",
      "50%      8.039062e+00\n",
      "75%      1.135938e+01\n",
      "max      4.175000e+01\n",
      "Name: corr_pt, dtype: float64\n",
      "Reading 3 of 16 : file ../Xsec_groups/df_Xsec_2_clean.parquet\n",
      "pre-match-cut size: 2412893\n",
      "post-match-cut size: 2412893\n",
      "75403/75403 [==============================] - 67s 893us/step\n"
     ]
    },
    {
     "name": "stderr",
     "output_type": "stream",
     "text": [
      "/home/davidstewart/penv-ML/lib/python3.10/site-packages/pandas/core/nanops.py:1487: RuntimeWarning: overflow encountered in cast\n",
      "  return dtype.type(n)\n",
      "/home/davidstewart/penv-ML/lib/python3.10/site-packages/numpy/core/_methods.py:49: RuntimeWarning: overflow encountered in reduce\n",
      "  return umr_sum(a, axis, dtype, out, keepdims, initial, where)\n",
      "/home/davidstewart/penv-ML/lib/python3.10/site-packages/pandas/core/nanops.py:731: RuntimeWarning: invalid value encountered in scalar divide\n",
      "  the_mean = the_sum / count if count > 0 else np.nan\n"
     ]
    },
    {
     "name": "stdout",
     "output_type": "stream",
     "text": [
      "count    2.412893e+06\n",
      "mean              NaN\n",
      "std      0.000000e+00\n",
      "min      3.302734e+00\n",
      "25%      3.943750e+01\n",
      "50%      4.753125e+01\n",
      "75%      5.278125e+01\n",
      "max      6.362500e+01\n",
      "Name: corr_pt, dtype: float64\n",
      "Reading 4 of 16 : file ../Xsec_groups/df_Xsec_12_clean.parquet\n",
      "pre-match-cut size: 1412527\n",
      "post-match-cut size: 1412527\n",
      "44142/44142 [==============================] - 41s 930us/step\n"
     ]
    },
    {
     "name": "stderr",
     "output_type": "stream",
     "text": [
      "/home/davidstewart/penv-ML/lib/python3.10/site-packages/pandas/core/nanops.py:1487: RuntimeWarning: overflow encountered in cast\n",
      "  return dtype.type(n)\n",
      "/home/davidstewart/penv-ML/lib/python3.10/site-packages/numpy/core/_methods.py:49: RuntimeWarning: overflow encountered in reduce\n",
      "  return umr_sum(a, axis, dtype, out, keepdims, initial, where)\n",
      "/home/davidstewart/penv-ML/lib/python3.10/site-packages/pandas/core/nanops.py:731: RuntimeWarning: invalid value encountered in scalar divide\n",
      "  the_mean = the_sum / count if count > 0 else np.nan\n"
     ]
    },
    {
     "name": "stdout",
     "output_type": "stream",
     "text": [
      "count    1.412527e+06\n",
      "mean              NaN\n",
      "std      0.000000e+00\n",
      "min      2.625000e+00\n",
      "25%      8.703125e+00\n",
      "50%      1.269531e+01\n",
      "75%      1.756250e+01\n",
      "max      5.118750e+01\n",
      "Name: corr_pt, dtype: float64\n",
      "Reading 5 of 16 : file ../Xsec_groups/df_Xsec_1_clean.parquet\n",
      "pre-match-cut size: 2507006\n",
      "post-match-cut size: 2507006\n",
      "78344/78344 [==============================] - 73s 933us/step\n"
     ]
    },
    {
     "name": "stderr",
     "output_type": "stream",
     "text": [
      "/home/davidstewart/penv-ML/lib/python3.10/site-packages/pandas/core/nanops.py:1487: RuntimeWarning: overflow encountered in cast\n",
      "  return dtype.type(n)\n",
      "/home/davidstewart/penv-ML/lib/python3.10/site-packages/numpy/core/_methods.py:49: RuntimeWarning: overflow encountered in reduce\n",
      "  return umr_sum(a, axis, dtype, out, keepdims, initial, where)\n",
      "/home/davidstewart/penv-ML/lib/python3.10/site-packages/pandas/core/nanops.py:731: RuntimeWarning: invalid value encountered in scalar divide\n",
      "  the_mean = the_sum / count if count > 0 else np.nan\n"
     ]
    },
    {
     "name": "stdout",
     "output_type": "stream",
     "text": [
      "count    2.507006e+06\n",
      "mean              NaN\n",
      "std      0.000000e+00\n",
      "min      3.384766e+00\n",
      "25%      4.278125e+01\n",
      "50%      5.046875e+01\n",
      "75%      5.471875e+01\n",
      "max      6.650000e+01\n",
      "Name: corr_pt, dtype: float64\n",
      "Reading 6 of 16 : file ../Xsec_groups/df_Xsec_0_clean.parquet\n",
      "pre-match-cut size: 2594597\n",
      "post-match-cut size: 2594597\n",
      "81082/81082 [==============================] - 76s 936us/step\n"
     ]
    },
    {
     "name": "stderr",
     "output_type": "stream",
     "text": [
      "/home/davidstewart/penv-ML/lib/python3.10/site-packages/pandas/core/nanops.py:1487: RuntimeWarning: overflow encountered in cast\n",
      "  return dtype.type(n)\n",
      "/home/davidstewart/penv-ML/lib/python3.10/site-packages/numpy/core/_methods.py:49: RuntimeWarning: overflow encountered in reduce\n",
      "  return umr_sum(a, axis, dtype, out, keepdims, initial, where)\n",
      "/home/davidstewart/penv-ML/lib/python3.10/site-packages/pandas/core/nanops.py:731: RuntimeWarning: invalid value encountered in scalar divide\n",
      "  the_mean = the_sum / count if count > 0 else np.nan\n"
     ]
    },
    {
     "name": "stdout",
     "output_type": "stream",
     "text": [
      "count    2.594597e+06\n",
      "mean              NaN\n",
      "std      0.000000e+00\n",
      "min      3.503906e+00\n",
      "25%      4.600000e+01\n",
      "50%      5.275000e+01\n",
      "75%      5.603125e+01\n",
      "max      6.800000e+01\n",
      "Name: corr_pt, dtype: float64\n",
      "Reading 7 of 16 : file ../Xsec_groups/df_Xsec_5_clean.parquet\n",
      "pre-match-cut size: 2140449\n",
      "post-match-cut size: 2140449\n",
      "66890/66890 [==============================] - 62s 933us/step\n"
     ]
    },
    {
     "name": "stderr",
     "output_type": "stream",
     "text": [
      "/home/davidstewart/penv-ML/lib/python3.10/site-packages/pandas/core/nanops.py:1487: RuntimeWarning: overflow encountered in cast\n",
      "  return dtype.type(n)\n",
      "/home/davidstewart/penv-ML/lib/python3.10/site-packages/numpy/core/_methods.py:49: RuntimeWarning: overflow encountered in reduce\n",
      "  return umr_sum(a, axis, dtype, out, keepdims, initial, where)\n",
      "/home/davidstewart/penv-ML/lib/python3.10/site-packages/pandas/core/nanops.py:731: RuntimeWarning: invalid value encountered in scalar divide\n",
      "  the_mean = the_sum / count if count > 0 else np.nan\n"
     ]
    },
    {
     "name": "stdout",
     "output_type": "stream",
     "text": [
      "count    2.140449e+06\n",
      "mean              NaN\n",
      "std      0.000000e+00\n",
      "min      3.132812e+00\n",
      "25%      2.912500e+01\n",
      "50%      3.690625e+01\n",
      "75%      4.346875e+01\n",
      "max      5.887500e+01\n",
      "Name: corr_pt, dtype: float64\n",
      "Reading 8 of 16 : file ../Xsec_groups/df_Xsec_15_clean.parquet\n",
      "pre-match-cut size: 910829\n",
      "post-match-cut size: 910829\n",
      "28464/28464 [==============================] - 27s 939us/step\n"
     ]
    },
    {
     "name": "stderr",
     "output_type": "stream",
     "text": [
      "/home/davidstewart/penv-ML/lib/python3.10/site-packages/pandas/core/nanops.py:1487: RuntimeWarning: overflow encountered in cast\n",
      "  return dtype.type(n)\n",
      "/home/davidstewart/penv-ML/lib/python3.10/site-packages/numpy/core/_methods.py:49: RuntimeWarning: overflow encountered in reduce\n",
      "  return umr_sum(a, axis, dtype, out, keepdims, initial, where)\n",
      "/home/davidstewart/penv-ML/lib/python3.10/site-packages/pandas/core/nanops.py:731: RuntimeWarning: invalid value encountered in scalar divide\n",
      "  the_mean = the_sum / count if count > 0 else np.nan\n"
     ]
    },
    {
     "name": "stdout",
     "output_type": "stream",
     "text": [
      "count    910829.000000\n",
      "mean               NaN\n",
      "std           0.000000\n",
      "min           2.566406\n",
      "25%           5.093750\n",
      "50%           6.507812\n",
      "75%           9.117188\n",
      "max          39.750000\n",
      "Name: corr_pt, dtype: float64\n",
      "Reading 9 of 16 : file ../Xsec_groups/df_Xsec_8_clean.parquet\n",
      "pre-match-cut size: 1873396\n",
      "post-match-cut size: 1873396\n",
      "58544/58544 [==============================] - 54s 919us/step\n"
     ]
    },
    {
     "name": "stderr",
     "output_type": "stream",
     "text": [
      "/home/davidstewart/penv-ML/lib/python3.10/site-packages/pandas/core/nanops.py:1487: RuntimeWarning: overflow encountered in cast\n",
      "  return dtype.type(n)\n",
      "/home/davidstewart/penv-ML/lib/python3.10/site-packages/numpy/core/_methods.py:49: RuntimeWarning: overflow encountered in reduce\n",
      "  return umr_sum(a, axis, dtype, out, keepdims, initial, where)\n",
      "/home/davidstewart/penv-ML/lib/python3.10/site-packages/pandas/core/nanops.py:731: RuntimeWarning: invalid value encountered in scalar divide\n",
      "  the_mean = the_sum / count if count > 0 else np.nan\n"
     ]
    },
    {
     "name": "stdout",
     "output_type": "stream",
     "text": [
      "count    1.873396e+06\n",
      "mean              NaN\n",
      "std      0.000000e+00\n",
      "min      2.814453e+00\n",
      "25%      1.917188e+01\n",
      "50%      2.593750e+01\n",
      "75%      3.228125e+01\n",
      "max      5.768750e+01\n",
      "Name: corr_pt, dtype: float64\n",
      "Reading 10 of 16 : file ../Xsec_groups/df_Xsec_3_clean.parquet\n",
      "pre-match-cut size: 2328154\n",
      "post-match-cut size: 2328154\n",
      "72755/72755 [==============================] - 61s 839us/step\n"
     ]
    },
    {
     "name": "stderr",
     "output_type": "stream",
     "text": [
      "/home/davidstewart/penv-ML/lib/python3.10/site-packages/pandas/core/nanops.py:1487: RuntimeWarning: overflow encountered in cast\n",
      "  return dtype.type(n)\n",
      "/home/davidstewart/penv-ML/lib/python3.10/site-packages/numpy/core/_methods.py:49: RuntimeWarning: overflow encountered in reduce\n",
      "  return umr_sum(a, axis, dtype, out, keepdims, initial, where)\n",
      "/home/davidstewart/penv-ML/lib/python3.10/site-packages/pandas/core/nanops.py:731: RuntimeWarning: invalid value encountered in scalar divide\n",
      "  the_mean = the_sum / count if count > 0 else np.nan\n"
     ]
    },
    {
     "name": "stdout",
     "output_type": "stream",
     "text": [
      "count    2.328154e+06\n",
      "mean              NaN\n",
      "std      0.000000e+00\n",
      "min      3.558594e+00\n",
      "25%      3.606250e+01\n",
      "50%      4.412500e+01\n",
      "75%      5.028125e+01\n",
      "max      6.221875e+01\n",
      "Name: corr_pt, dtype: float64\n",
      "Reading 11 of 16 : file ../Xsec_groups/df_Xsec_4_clean.parquet\n",
      "pre-match-cut size: 2231697\n",
      "post-match-cut size: 2231697\n",
      "69741/69741 [==============================] - 67s 955us/step\n"
     ]
    },
    {
     "name": "stderr",
     "output_type": "stream",
     "text": [
      "/home/davidstewart/penv-ML/lib/python3.10/site-packages/pandas/core/nanops.py:1487: RuntimeWarning: overflow encountered in cast\n",
      "  return dtype.type(n)\n",
      "/home/davidstewart/penv-ML/lib/python3.10/site-packages/numpy/core/_methods.py:49: RuntimeWarning: overflow encountered in reduce\n",
      "  return umr_sum(a, axis, dtype, out, keepdims, initial, where)\n",
      "/home/davidstewart/penv-ML/lib/python3.10/site-packages/pandas/core/nanops.py:731: RuntimeWarning: invalid value encountered in scalar divide\n",
      "  the_mean = the_sum / count if count > 0 else np.nan\n"
     ]
    },
    {
     "name": "stdout",
     "output_type": "stream",
     "text": [
      "count    2.231697e+06\n",
      "mean              NaN\n",
      "std      0.000000e+00\n",
      "min      3.214844e+00\n",
      "25%      3.268750e+01\n",
      "50%      4.056250e+01\n",
      "75%      4.718750e+01\n",
      "max      6.000000e+01\n",
      "Name: corr_pt, dtype: float64\n",
      "Reading 12 of 16 : file ../Xsec_groups/df_Xsec_13_clean.parquet\n",
      "pre-match-cut size: 1273512\n",
      "post-match-cut size: 1273512\n",
      "39798/39798 [==============================] - 37s 929us/step\n"
     ]
    },
    {
     "name": "stderr",
     "output_type": "stream",
     "text": [
      "/home/davidstewart/penv-ML/lib/python3.10/site-packages/pandas/core/nanops.py:1487: RuntimeWarning: overflow encountered in cast\n",
      "  return dtype.type(n)\n",
      "/home/davidstewart/penv-ML/lib/python3.10/site-packages/numpy/core/_methods.py:49: RuntimeWarning: overflow encountered in reduce\n",
      "  return umr_sum(a, axis, dtype, out, keepdims, initial, where)\n",
      "/home/davidstewart/penv-ML/lib/python3.10/site-packages/pandas/core/nanops.py:731: RuntimeWarning: invalid value encountered in scalar divide\n",
      "  the_mean = the_sum / count if count > 0 else np.nan\n"
     ]
    },
    {
     "name": "stdout",
     "output_type": "stream",
     "text": [
      "count    1.273512e+06\n",
      "mean              NaN\n",
      "std      0.000000e+00\n",
      "min      2.722656e+00\n",
      "25%      6.906250e+00\n",
      "50%      1.023438e+01\n",
      "75%      1.419531e+01\n",
      "max      4.403125e+01\n",
      "Name: corr_pt, dtype: float64\n",
      "Reading 13 of 16 : file ../Xsec_groups/df_Xsec_10_clean.parquet\n",
      "pre-match-cut size: 1663161\n",
      "post-match-cut size: 1663161\n",
      "51974/51974 [==============================] - 50s 958us/step\n"
     ]
    },
    {
     "name": "stderr",
     "output_type": "stream",
     "text": [
      "/home/davidstewart/penv-ML/lib/python3.10/site-packages/pandas/core/nanops.py:1487: RuntimeWarning: overflow encountered in cast\n",
      "  return dtype.type(n)\n",
      "/home/davidstewart/penv-ML/lib/python3.10/site-packages/numpy/core/_methods.py:49: RuntimeWarning: overflow encountered in reduce\n",
      "  return umr_sum(a, axis, dtype, out, keepdims, initial, where)\n",
      "/home/davidstewart/penv-ML/lib/python3.10/site-packages/pandas/core/nanops.py:731: RuntimeWarning: invalid value encountered in scalar divide\n",
      "  the_mean = the_sum / count if count > 0 else np.nan\n"
     ]
    },
    {
     "name": "stdout",
     "output_type": "stream",
     "text": [
      "count    1.663161e+06\n",
      "mean              NaN\n",
      "std      0.000000e+00\n",
      "min      2.832031e+00\n",
      "25%      1.330469e+01\n",
      "50%      1.904688e+01\n",
      "75%      2.478125e+01\n",
      "max      5.490625e+01\n",
      "Name: corr_pt, dtype: float64\n",
      "Reading 14 of 16 : file ../Xsec_groups/df_Xsec_7_clean.parquet\n",
      "pre-match-cut size: 1963583\n",
      "post-match-cut size: 1963583\n",
      "61362/61362 [==============================] - 57s 929us/step\n"
     ]
    },
    {
     "name": "stderr",
     "output_type": "stream",
     "text": [
      "/home/davidstewart/penv-ML/lib/python3.10/site-packages/pandas/core/nanops.py:1487: RuntimeWarning: overflow encountered in cast\n",
      "  return dtype.type(n)\n",
      "/home/davidstewart/penv-ML/lib/python3.10/site-packages/numpy/core/_methods.py:49: RuntimeWarning: overflow encountered in reduce\n",
      "  return umr_sum(a, axis, dtype, out, keepdims, initial, where)\n",
      "/home/davidstewart/penv-ML/lib/python3.10/site-packages/pandas/core/nanops.py:731: RuntimeWarning: invalid value encountered in scalar divide\n",
      "  the_mean = the_sum / count if count > 0 else np.nan\n"
     ]
    },
    {
     "name": "stdout",
     "output_type": "stream",
     "text": [
      "count    1.963583e+06\n",
      "mean              NaN\n",
      "std      0.000000e+00\n",
      "min      2.925781e+00\n",
      "25%      2.231250e+01\n",
      "50%      2.953125e+01\n",
      "75%      3.600000e+01\n",
      "max      5.762500e+01\n",
      "Name: corr_pt, dtype: float64\n",
      "Reading 15 of 16 : file ../Xsec_groups/df_Xsec_11_clean.parquet\n",
      "pre-match-cut size: 1551481\n",
      "post-match-cut size: 1551481\n",
      "48484/48484 [==============================] - 46s 944us/step\n"
     ]
    },
    {
     "name": "stderr",
     "output_type": "stream",
     "text": [
      "/home/davidstewart/penv-ML/lib/python3.10/site-packages/pandas/core/nanops.py:1487: RuntimeWarning: overflow encountered in cast\n",
      "  return dtype.type(n)\n",
      "/home/davidstewart/penv-ML/lib/python3.10/site-packages/numpy/core/_methods.py:49: RuntimeWarning: overflow encountered in reduce\n",
      "  return umr_sum(a, axis, dtype, out, keepdims, initial, where)\n",
      "/home/davidstewart/penv-ML/lib/python3.10/site-packages/pandas/core/nanops.py:731: RuntimeWarning: invalid value encountered in scalar divide\n",
      "  the_mean = the_sum / count if count > 0 else np.nan\n"
     ]
    },
    {
     "name": "stdout",
     "output_type": "stream",
     "text": [
      "count    1.551481e+06\n",
      "mean              NaN\n",
      "std      0.000000e+00\n",
      "min      2.878906e+00\n",
      "25%      1.095312e+01\n",
      "50%      1.572656e+01\n",
      "75%      2.112500e+01\n",
      "max      5.462500e+01\n",
      "Name: corr_pt, dtype: float64\n",
      "Done.\n"
     ]
    }
   ],
   "source": [
    "'''\n",
    "This cell: \n",
    "    read-in the Xsec_group_#.parquet files, correct, and write the short output locall\n",
    "'''\n",
    "\n",
    "import sys\n",
    "import os\n",
    "sys.path.append(os.path.abspath('../../'))\n",
    "from RunModelPrediction import runModelPrediction\n",
    "runModelPrediction('../../NeuralNetwork/train/nconsts_W/')\n"
   ]
  },
  {
   "cell_type": "code",
   "execution_count": null,
   "metadata": {},
   "outputs": [],
   "source": []
  }
 ],
 "metadata": {
  "kernelspec": {
   "display_name": "penv_ML",
   "language": "python",
   "name": "penv_ml"
  },
  "language_info": {
   "codemirror_mode": {
    "name": "ipython",
    "version": 3
   },
   "file_extension": ".py",
   "mimetype": "text/x-python",
   "name": "python",
   "nbconvert_exporter": "python",
   "pygments_lexer": "ipython3",
   "version": "3.10.12"
  }
 },
 "nbformat": 4,
 "nbformat_minor": 4
}
