{
 "cells": [
  {
   "cell_type": "code",
   "execution_count": 1,
   "metadata": {},
   "outputs": [
    {
     "name": "stderr",
     "output_type": "stream",
     "text": [
      "/home/davidstewart/penv-ML/lib/python3.10/site-packages/pandas/core/computation/expressions.py:21: UserWarning: Pandas requires version '2.8.4' or newer of 'numexpr' (version '2.8.1' currently installed).\n",
      "  from pandas.core.computation.check import NUMEXPR_INSTALLED\n",
      "/home/davidstewart/penv-ML/lib/python3.10/site-packages/pandas/core/arrays/masked.py:60: UserWarning: Pandas requires version '1.3.6' or newer of 'bottleneck' (version '1.3.2' currently installed).\n",
      "  from pandas.core import (\n"
     ]
    },
    {
     "name": "stdout",
     "output_type": "stream",
     "text": [
      "Welcome to JupyROOT 6.28/10\n"
     ]
    },
    {
     "name": "stderr",
     "output_type": "stream",
     "text": [
      "/usr/lib/python3/dist-packages/scipy/__init__.py:146: UserWarning: A NumPy version >=1.17.3 and <1.25.0 is required for this version of SciPy (detected version 1.26.4\n",
      "  warnings.warn(f\"A NumPy version >={np_minversion} and <{np_maxversion}\"\n"
     ]
    },
    {
     "name": "stdout",
     "output_type": "stream",
     "text": [
      "INFO:tensorflow:Mixed precision compatibility check (mixed_float16): OK\n",
      "Your GPUs will likely run quickly with dtype policy mixed_float16 as they all have compute capability of at least 7.0\n",
      "Reading 0 of 16 : file ../Xsec_groups/df_Xsec_9_clean.parquet\n",
      "pre-match-cut size: 1772204\n",
      "post-match-cut size: 1772204\n",
      "55382/55382 [==============================] - 52s 930us/step\n"
     ]
    },
    {
     "name": "stderr",
     "output_type": "stream",
     "text": [
      "/home/davidstewart/penv-ML/lib/python3.10/site-packages/pandas/core/nanops.py:1487: RuntimeWarning: overflow encountered in cast\n",
      "  return dtype.type(n)\n",
      "/home/davidstewart/penv-ML/lib/python3.10/site-packages/numpy/core/_methods.py:49: RuntimeWarning: overflow encountered in reduce\n",
      "  return umr_sum(a, axis, dtype, out, keepdims, initial, where)\n",
      "/home/davidstewart/penv-ML/lib/python3.10/site-packages/pandas/core/nanops.py:731: RuntimeWarning: invalid value encountered in scalar divide\n",
      "  the_mean = the_sum / count if count > 0 else np.nan\n"
     ]
    },
    {
     "name": "stdout",
     "output_type": "stream",
     "text": [
      "count    1.772204e+06\n",
      "mean              NaN\n",
      "std      0.000000e+00\n",
      "min      2.322266e+00\n",
      "25%      1.854688e+01\n",
      "50%      2.509375e+01\n",
      "75%      3.187500e+01\n",
      "max      5.609375e+01\n",
      "Name: corr_pt, dtype: float64\n",
      "Reading 1 of 16 : file ../Xsec_groups/df_Xsec_6_clean.parquet\n",
      "pre-match-cut size: 2053913\n",
      "post-match-cut size: 2053913\n",
      "64185/64185 [==============================] - 60s 927us/step\n"
     ]
    },
    {
     "name": "stderr",
     "output_type": "stream",
     "text": [
      "/home/davidstewart/penv-ML/lib/python3.10/site-packages/pandas/core/nanops.py:1487: RuntimeWarning: overflow encountered in cast\n",
      "  return dtype.type(n)\n",
      "/home/davidstewart/penv-ML/lib/python3.10/site-packages/numpy/core/_methods.py:49: RuntimeWarning: overflow encountered in reduce\n",
      "  return umr_sum(a, axis, dtype, out, keepdims, initial, where)\n",
      "/home/davidstewart/penv-ML/lib/python3.10/site-packages/pandas/core/nanops.py:731: RuntimeWarning: invalid value encountered in scalar divide\n",
      "  the_mean = the_sum / count if count > 0 else np.nan\n"
     ]
    },
    {
     "name": "stdout",
     "output_type": "stream",
     "text": [
      "count    2.053913e+06\n",
      "mean              NaN\n",
      "std      0.000000e+00\n",
      "min      3.048828e+00\n",
      "25%      2.823438e+01\n",
      "50%      3.571875e+01\n",
      "75%      4.243750e+01\n",
      "max      5.906250e+01\n",
      "Name: corr_pt, dtype: float64\n",
      "Reading 2 of 16 : file ../Xsec_groups/df_Xsec_14_clean.parquet\n",
      "pre-match-cut size: 1111193\n",
      "post-match-cut size: 1111193\n",
      "34725/34725 [==============================] - 32s 931us/step\n"
     ]
    },
    {
     "name": "stderr",
     "output_type": "stream",
     "text": [
      "/home/davidstewart/penv-ML/lib/python3.10/site-packages/pandas/core/nanops.py:1487: RuntimeWarning: overflow encountered in cast\n",
      "  return dtype.type(n)\n",
      "/home/davidstewart/penv-ML/lib/python3.10/site-packages/numpy/core/_methods.py:49: RuntimeWarning: overflow encountered in reduce\n",
      "  return umr_sum(a, axis, dtype, out, keepdims, initial, where)\n",
      "/home/davidstewart/penv-ML/lib/python3.10/site-packages/pandas/core/nanops.py:731: RuntimeWarning: invalid value encountered in scalar divide\n",
      "  the_mean = the_sum / count if count > 0 else np.nan\n"
     ]
    },
    {
     "name": "stdout",
     "output_type": "stream",
     "text": [
      "count    1.111193e+06\n",
      "mean              NaN\n",
      "std      0.000000e+00\n",
      "min      9.150391e-01\n",
      "25%      5.863281e+00\n",
      "50%      9.289062e+00\n",
      "75%      1.410938e+01\n",
      "max      5.043750e+01\n",
      "Name: corr_pt, dtype: float64\n",
      "Reading 3 of 16 : file ../Xsec_groups/df_Xsec_2_clean.parquet\n",
      "pre-match-cut size: 2412893\n",
      "post-match-cut size: 2412893\n",
      "75403/75403 [==============================] - 69s 910us/step\n"
     ]
    },
    {
     "name": "stderr",
     "output_type": "stream",
     "text": [
      "/home/davidstewart/penv-ML/lib/python3.10/site-packages/pandas/core/nanops.py:1487: RuntimeWarning: overflow encountered in cast\n",
      "  return dtype.type(n)\n",
      "/home/davidstewart/penv-ML/lib/python3.10/site-packages/numpy/core/_methods.py:49: RuntimeWarning: overflow encountered in reduce\n",
      "  return umr_sum(a, axis, dtype, out, keepdims, initial, where)\n",
      "/home/davidstewart/penv-ML/lib/python3.10/site-packages/pandas/core/nanops.py:731: RuntimeWarning: invalid value encountered in scalar divide\n",
      "  the_mean = the_sum / count if count > 0 else np.nan\n"
     ]
    },
    {
     "name": "stdout",
     "output_type": "stream",
     "text": [
      "count    2.412893e+06\n",
      "mean              NaN\n",
      "std      0.000000e+00\n",
      "min      3.332031e+00\n",
      "25%      4.209375e+01\n",
      "50%      4.862500e+01\n",
      "75%      5.271875e+01\n",
      "max      6.371875e+01\n",
      "Name: corr_pt, dtype: float64\n",
      "Reading 4 of 16 : file ../Xsec_groups/df_Xsec_12_clean.parquet\n",
      "pre-match-cut size: 1412527\n",
      "post-match-cut size: 1412527\n",
      "44142/44142 [==============================] - 41s 923us/step\n"
     ]
    },
    {
     "name": "stderr",
     "output_type": "stream",
     "text": [
      "/home/davidstewart/penv-ML/lib/python3.10/site-packages/pandas/core/nanops.py:1487: RuntimeWarning: overflow encountered in cast\n",
      "  return dtype.type(n)\n",
      "/home/davidstewart/penv-ML/lib/python3.10/site-packages/numpy/core/_methods.py:49: RuntimeWarning: overflow encountered in reduce\n",
      "  return umr_sum(a, axis, dtype, out, keepdims, initial, where)\n",
      "/home/davidstewart/penv-ML/lib/python3.10/site-packages/pandas/core/nanops.py:731: RuntimeWarning: invalid value encountered in scalar divide\n",
      "  the_mean = the_sum / count if count > 0 else np.nan\n"
     ]
    },
    {
     "name": "stdout",
     "output_type": "stream",
     "text": [
      "count    1.412527e+06\n",
      "mean              NaN\n",
      "std      0.000000e+00\n",
      "min      4.697266e-01\n",
      "25%      9.914062e+00\n",
      "50%      1.515625e+01\n",
      "75%      2.106250e+01\n",
      "max      5.418750e+01\n",
      "Name: corr_pt, dtype: float64\n",
      "Reading 5 of 16 : file ../Xsec_groups/df_Xsec_1_clean.parquet\n",
      "pre-match-cut size: 2507006\n",
      "post-match-cut size: 2507006\n",
      "78344/78344 [==============================] - 66s 837us/step\n"
     ]
    },
    {
     "name": "stderr",
     "output_type": "stream",
     "text": [
      "/home/davidstewart/penv-ML/lib/python3.10/site-packages/pandas/core/nanops.py:1487: RuntimeWarning: overflow encountered in cast\n",
      "  return dtype.type(n)\n",
      "/home/davidstewart/penv-ML/lib/python3.10/site-packages/numpy/core/_methods.py:49: RuntimeWarning: overflow encountered in reduce\n",
      "  return umr_sum(a, axis, dtype, out, keepdims, initial, where)\n",
      "/home/davidstewart/penv-ML/lib/python3.10/site-packages/pandas/core/nanops.py:731: RuntimeWarning: invalid value encountered in scalar divide\n",
      "  the_mean = the_sum / count if count > 0 else np.nan\n"
     ]
    },
    {
     "name": "stdout",
     "output_type": "stream",
     "text": [
      "count    2.507006e+06\n",
      "mean              NaN\n",
      "std      0.000000e+00\n",
      "min      2.988281e+00\n",
      "25%      4.528125e+01\n",
      "50%      5.096875e+01\n",
      "75%      5.403125e+01\n",
      "max      6.550000e+01\n",
      "Name: corr_pt, dtype: float64\n",
      "Reading 6 of 16 : file ../Xsec_groups/df_Xsec_0_clean.parquet\n",
      "pre-match-cut size: 2594597\n",
      "post-match-cut size: 2594597\n",
      "81082/81082 [==============================] - 75s 920us/step\n"
     ]
    },
    {
     "name": "stderr",
     "output_type": "stream",
     "text": [
      "/home/davidstewart/penv-ML/lib/python3.10/site-packages/pandas/core/nanops.py:1487: RuntimeWarning: overflow encountered in cast\n",
      "  return dtype.type(n)\n",
      "/home/davidstewart/penv-ML/lib/python3.10/site-packages/numpy/core/_methods.py:49: RuntimeWarning: overflow encountered in reduce\n",
      "  return umr_sum(a, axis, dtype, out, keepdims, initial, where)\n",
      "/home/davidstewart/penv-ML/lib/python3.10/site-packages/pandas/core/nanops.py:731: RuntimeWarning: invalid value encountered in scalar divide\n",
      "  the_mean = the_sum / count if count > 0 else np.nan\n"
     ]
    },
    {
     "name": "stdout",
     "output_type": "stream",
     "text": [
      "count    2.594597e+06\n",
      "mean              NaN\n",
      "std      0.000000e+00\n",
      "min      3.597656e+00\n",
      "25%      4.796875e+01\n",
      "50%      5.275000e+01\n",
      "75%      5.490625e+01\n",
      "max      6.693750e+01\n",
      "Name: corr_pt, dtype: float64\n",
      "Reading 7 of 16 : file ../Xsec_groups/df_Xsec_5_clean.parquet\n",
      "pre-match-cut size: 2140449\n",
      "post-match-cut size: 2140449\n",
      "66890/66890 [==============================] - 63s 936us/step\n"
     ]
    },
    {
     "name": "stderr",
     "output_type": "stream",
     "text": [
      "/home/davidstewart/penv-ML/lib/python3.10/site-packages/pandas/core/nanops.py:1487: RuntimeWarning: overflow encountered in cast\n",
      "  return dtype.type(n)\n",
      "/home/davidstewart/penv-ML/lib/python3.10/site-packages/numpy/core/_methods.py:49: RuntimeWarning: overflow encountered in reduce\n",
      "  return umr_sum(a, axis, dtype, out, keepdims, initial, where)\n",
      "/home/davidstewart/penv-ML/lib/python3.10/site-packages/pandas/core/nanops.py:731: RuntimeWarning: invalid value encountered in scalar divide\n",
      "  the_mean = the_sum / count if count > 0 else np.nan\n"
     ]
    },
    {
     "name": "stdout",
     "output_type": "stream",
     "text": [
      "count    2.140449e+06\n",
      "mean              NaN\n",
      "std      0.000000e+00\n",
      "min      2.457031e+00\n",
      "25%      3.181250e+01\n",
      "50%      3.928125e+01\n",
      "75%      4.571875e+01\n",
      "max      6.062500e+01\n",
      "Name: corr_pt, dtype: float64\n",
      "Reading 8 of 16 : file ../Xsec_groups/df_Xsec_15_clean.parquet\n",
      "pre-match-cut size: 910829\n",
      "post-match-cut size: 910829\n",
      "28464/28464 [==============================] - 27s 939us/step\n"
     ]
    },
    {
     "name": "stderr",
     "output_type": "stream",
     "text": [
      "/home/davidstewart/penv-ML/lib/python3.10/site-packages/pandas/core/nanops.py:1487: RuntimeWarning: overflow encountered in cast\n",
      "  return dtype.type(n)\n",
      "/home/davidstewart/penv-ML/lib/python3.10/site-packages/numpy/core/_methods.py:49: RuntimeWarning: overflow encountered in reduce\n",
      "  return umr_sum(a, axis, dtype, out, keepdims, initial, where)\n",
      "/home/davidstewart/penv-ML/lib/python3.10/site-packages/pandas/core/nanops.py:731: RuntimeWarning: invalid value encountered in scalar divide\n",
      "  the_mean = the_sum / count if count > 0 else np.nan\n"
     ]
    },
    {
     "name": "stdout",
     "output_type": "stream",
     "text": [
      "count    910829.000000\n",
      "mean               NaN\n",
      "std           0.000000\n",
      "min           0.771484\n",
      "25%           5.031250\n",
      "50%           7.074219\n",
      "75%          11.109375\n",
      "max          47.531250\n",
      "Name: corr_pt, dtype: float64\n",
      "Reading 9 of 16 : file ../Xsec_groups/df_Xsec_8_clean.parquet\n",
      "pre-match-cut size: 1873396\n",
      "post-match-cut size: 1873396\n",
      "58544/58544 [==============================] - 56s 948us/step\n"
     ]
    },
    {
     "name": "stderr",
     "output_type": "stream",
     "text": [
      "/home/davidstewart/penv-ML/lib/python3.10/site-packages/pandas/core/nanops.py:1487: RuntimeWarning: overflow encountered in cast\n",
      "  return dtype.type(n)\n",
      "/home/davidstewart/penv-ML/lib/python3.10/site-packages/numpy/core/_methods.py:49: RuntimeWarning: overflow encountered in reduce\n",
      "  return umr_sum(a, axis, dtype, out, keepdims, initial, where)\n",
      "/home/davidstewart/penv-ML/lib/python3.10/site-packages/pandas/core/nanops.py:731: RuntimeWarning: invalid value encountered in scalar divide\n",
      "  the_mean = the_sum / count if count > 0 else np.nan\n"
     ]
    },
    {
     "name": "stdout",
     "output_type": "stream",
     "text": [
      "count    1.873396e+06\n",
      "mean              NaN\n",
      "std      0.000000e+00\n",
      "min      2.591797e+00\n",
      "25%      2.167188e+01\n",
      "50%      2.854688e+01\n",
      "75%      3.546875e+01\n",
      "max      5.662500e+01\n",
      "Name: corr_pt, dtype: float64\n",
      "Reading 10 of 16 : file ../Xsec_groups/df_Xsec_3_clean.parquet\n",
      "pre-match-cut size: 2328154\n",
      "post-match-cut size: 2328154\n",
      "72755/72755 [==============================] - 69s 951us/step\n"
     ]
    },
    {
     "name": "stderr",
     "output_type": "stream",
     "text": [
      "/home/davidstewart/penv-ML/lib/python3.10/site-packages/pandas/core/nanops.py:1487: RuntimeWarning: overflow encountered in cast\n",
      "  return dtype.type(n)\n",
      "/home/davidstewart/penv-ML/lib/python3.10/site-packages/numpy/core/_methods.py:49: RuntimeWarning: overflow encountered in reduce\n",
      "  return umr_sum(a, axis, dtype, out, keepdims, initial, where)\n",
      "/home/davidstewart/penv-ML/lib/python3.10/site-packages/pandas/core/nanops.py:731: RuntimeWarning: invalid value encountered in scalar divide\n",
      "  the_mean = the_sum / count if count > 0 else np.nan\n"
     ]
    },
    {
     "name": "stdout",
     "output_type": "stream",
     "text": [
      "count    2.328154e+06\n",
      "mean              NaN\n",
      "std      0.000000e+00\n",
      "min      3.507812e+00\n",
      "25%      3.878125e+01\n",
      "50%      4.590625e+01\n",
      "75%      5.090625e+01\n",
      "max      6.215625e+01\n",
      "Name: corr_pt, dtype: float64\n",
      "Reading 11 of 16 : file ../Xsec_groups/df_Xsec_4_clean.parquet\n",
      "pre-match-cut size: 2231697\n",
      "post-match-cut size: 2231697\n",
      "69741/69741 [==============================] - 66s 943us/step\n"
     ]
    },
    {
     "name": "stderr",
     "output_type": "stream",
     "text": [
      "/home/davidstewart/penv-ML/lib/python3.10/site-packages/pandas/core/nanops.py:1487: RuntimeWarning: overflow encountered in cast\n",
      "  return dtype.type(n)\n",
      "/home/davidstewart/penv-ML/lib/python3.10/site-packages/numpy/core/_methods.py:49: RuntimeWarning: overflow encountered in reduce\n",
      "  return umr_sum(a, axis, dtype, out, keepdims, initial, where)\n",
      "/home/davidstewart/penv-ML/lib/python3.10/site-packages/pandas/core/nanops.py:731: RuntimeWarning: invalid value encountered in scalar divide\n",
      "  the_mean = the_sum / count if count > 0 else np.nan\n"
     ]
    },
    {
     "name": "stdout",
     "output_type": "stream",
     "text": [
      "count    2.231697e+06\n",
      "mean              NaN\n",
      "std      0.000000e+00\n",
      "min      2.076172e+00\n",
      "25%      3.537500e+01\n",
      "50%      4.275000e+01\n",
      "75%      4.856250e+01\n",
      "max      6.109375e+01\n",
      "Name: corr_pt, dtype: float64\n",
      "Reading 12 of 16 : file ../Xsec_groups/df_Xsec_13_clean.parquet\n",
      "pre-match-cut size: 1273512\n",
      "post-match-cut size: 1273512\n",
      "39798/39798 [==============================] - 37s 931us/step\n"
     ]
    },
    {
     "name": "stderr",
     "output_type": "stream",
     "text": [
      "/home/davidstewart/penv-ML/lib/python3.10/site-packages/pandas/core/nanops.py:1487: RuntimeWarning: overflow encountered in cast\n",
      "  return dtype.type(n)\n",
      "/home/davidstewart/penv-ML/lib/python3.10/site-packages/numpy/core/_methods.py:49: RuntimeWarning: overflow encountered in reduce\n",
      "  return umr_sum(a, axis, dtype, out, keepdims, initial, where)\n",
      "/home/davidstewart/penv-ML/lib/python3.10/site-packages/pandas/core/nanops.py:731: RuntimeWarning: invalid value encountered in scalar divide\n",
      "  the_mean = the_sum / count if count > 0 else np.nan\n"
     ]
    },
    {
     "name": "stdout",
     "output_type": "stream",
     "text": [
      "count    1.273512e+06\n",
      "mean              NaN\n",
      "std      0.000000e+00\n",
      "min      1.390625e+00\n",
      "25%      7.476562e+00\n",
      "50%      1.210156e+01\n",
      "75%      1.753125e+01\n",
      "max      5.300000e+01\n",
      "Name: corr_pt, dtype: float64\n",
      "Reading 13 of 16 : file ../Xsec_groups/df_Xsec_10_clean.parquet\n",
      "pre-match-cut size: 1663161\n",
      "post-match-cut size: 1663161\n",
      "51974/51974 [==============================] - 48s 930us/step\n"
     ]
    },
    {
     "name": "stderr",
     "output_type": "stream",
     "text": [
      "/home/davidstewart/penv-ML/lib/python3.10/site-packages/pandas/core/nanops.py:1487: RuntimeWarning: overflow encountered in cast\n",
      "  return dtype.type(n)\n",
      "/home/davidstewart/penv-ML/lib/python3.10/site-packages/numpy/core/_methods.py:49: RuntimeWarning: overflow encountered in reduce\n",
      "  return umr_sum(a, axis, dtype, out, keepdims, initial, where)\n",
      "/home/davidstewart/penv-ML/lib/python3.10/site-packages/pandas/core/nanops.py:731: RuntimeWarning: invalid value encountered in scalar divide\n",
      "  the_mean = the_sum / count if count > 0 else np.nan\n"
     ]
    },
    {
     "name": "stdout",
     "output_type": "stream",
     "text": [
      "count    1.663161e+06\n",
      "mean              NaN\n",
      "std      0.000000e+00\n",
      "min      1.201172e+00\n",
      "25%      1.550000e+01\n",
      "50%      2.170312e+01\n",
      "75%      2.818750e+01\n",
      "max      5.565625e+01\n",
      "Name: corr_pt, dtype: float64\n",
      "Reading 14 of 16 : file ../Xsec_groups/df_Xsec_7_clean.parquet\n",
      "pre-match-cut size: 1963583\n",
      "post-match-cut size: 1963583\n",
      "61362/61362 [==============================] - 59s 967us/step\n"
     ]
    },
    {
     "name": "stderr",
     "output_type": "stream",
     "text": [
      "/home/davidstewart/penv-ML/lib/python3.10/site-packages/pandas/core/nanops.py:1487: RuntimeWarning: overflow encountered in cast\n",
      "  return dtype.type(n)\n",
      "/home/davidstewart/penv-ML/lib/python3.10/site-packages/numpy/core/_methods.py:49: RuntimeWarning: overflow encountered in reduce\n",
      "  return umr_sum(a, axis, dtype, out, keepdims, initial, where)\n",
      "/home/davidstewart/penv-ML/lib/python3.10/site-packages/pandas/core/nanops.py:731: RuntimeWarning: invalid value encountered in scalar divide\n",
      "  the_mean = the_sum / count if count > 0 else np.nan\n"
     ]
    },
    {
     "name": "stdout",
     "output_type": "stream",
     "text": [
      "count    1.963583e+06\n",
      "mean              NaN\n",
      "std      0.000000e+00\n",
      "min      2.550781e+00\n",
      "25%      2.482812e+01\n",
      "50%      3.209375e+01\n",
      "75%      3.900000e+01\n",
      "max      5.765625e+01\n",
      "Name: corr_pt, dtype: float64\n",
      "Reading 15 of 16 : file ../Xsec_groups/df_Xsec_11_clean.parquet\n",
      "pre-match-cut size: 1551481\n",
      "post-match-cut size: 1551481\n",
      "48484/48484 [==============================] - 46s 942us/step\n"
     ]
    },
    {
     "name": "stderr",
     "output_type": "stream",
     "text": [
      "/home/davidstewart/penv-ML/lib/python3.10/site-packages/pandas/core/nanops.py:1487: RuntimeWarning: overflow encountered in cast\n",
      "  return dtype.type(n)\n",
      "/home/davidstewart/penv-ML/lib/python3.10/site-packages/numpy/core/_methods.py:49: RuntimeWarning: overflow encountered in reduce\n",
      "  return umr_sum(a, axis, dtype, out, keepdims, initial, where)\n",
      "/home/davidstewart/penv-ML/lib/python3.10/site-packages/pandas/core/nanops.py:731: RuntimeWarning: invalid value encountered in scalar divide\n",
      "  the_mean = the_sum / count if count > 0 else np.nan\n"
     ]
    },
    {
     "name": "stdout",
     "output_type": "stream",
     "text": [
      "count    1.551481e+06\n",
      "mean              NaN\n",
      "std      0.000000e+00\n",
      "min      1.802734e+00\n",
      "25%      1.260938e+01\n",
      "50%      1.835938e+01\n",
      "75%      2.457812e+01\n",
      "max      5.462500e+01\n",
      "Name: corr_pt, dtype: float64\n",
      "Done.\n"
     ]
    }
   ],
   "source": [
    "'''\n",
    "This cell: \n",
    "    read-in the Xsec_group_#.parquet files, correct, and write the short output locall\n",
    "'''\n",
    "\n",
    "import sys\n",
    "import os\n",
    "sys.path.append(os.path.abspath('../../'))\n",
    "from RunModelPrediction import runModelPrediction\n",
    "runModelPrediction('../../NeuralNetwork/train/rhoAonly_W/')\n"
   ]
  },
  {
   "cell_type": "code",
   "execution_count": null,
   "metadata": {},
   "outputs": [],
   "source": []
  }
 ],
 "metadata": {
  "kernelspec": {
   "display_name": "penv_ML",
   "language": "python",
   "name": "penv_ml"
  },
  "language_info": {
   "codemirror_mode": {
    "name": "ipython",
    "version": 3
   },
   "file_extension": ".py",
   "mimetype": "text/x-python",
   "name": "python",
   "nbconvert_exporter": "python",
   "pygments_lexer": "ipython3",
   "version": "3.10.12"
  }
 },
 "nbformat": 4,
 "nbformat_minor": 4
}
