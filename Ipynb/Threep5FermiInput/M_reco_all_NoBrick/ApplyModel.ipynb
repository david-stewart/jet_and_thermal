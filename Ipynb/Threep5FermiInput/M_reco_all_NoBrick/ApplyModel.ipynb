{
 "cells": [
  {
   "cell_type": "code",
   "execution_count": 1,
   "metadata": {},
   "outputs": [
    {
     "name": "stderr",
     "output_type": "stream",
     "text": [
      "/home/davidstewart/penv-ML/lib/python3.10/site-packages/pandas/core/computation/expressions.py:21: UserWarning: Pandas requires version '2.8.4' or newer of 'numexpr' (version '2.8.1' currently installed).\n",
      "  from pandas.core.computation.check import NUMEXPR_INSTALLED\n",
      "/home/davidstewart/penv-ML/lib/python3.10/site-packages/pandas/core/arrays/masked.py:60: UserWarning: Pandas requires version '1.3.6' or newer of 'bottleneck' (version '1.3.2' currently installed).\n",
      "  from pandas.core import (\n"
     ]
    },
    {
     "name": "stdout",
     "output_type": "stream",
     "text": [
      "Welcome to JupyROOT 6.28/10\n"
     ]
    },
    {
     "name": "stderr",
     "output_type": "stream",
     "text": [
      "/usr/lib/python3/dist-packages/scipy/__init__.py:146: UserWarning: A NumPy version >=1.17.3 and <1.25.0 is required for this version of SciPy (detected version 1.26.4\n",
      "  warnings.warn(f\"A NumPy version >={np_minversion} and <{np_maxversion}\"\n"
     ]
    },
    {
     "name": "stdout",
     "output_type": "stream",
     "text": [
      "INFO:tensorflow:Mixed precision compatibility check (mixed_float16): OK\n",
      "Your GPUs will likely run quickly with dtype policy mixed_float16 as they all have compute capability of at least 7.0\n",
      "Reading 0 of 16 : file ../Xsec_groups/df_Xsec_9_clean.parquet\n",
      "pre-match-cut size: 1772204\n",
      "post-match-cut size: 1772204\n",
      "55382/55382 [==============================] - 40s 724us/step\n"
     ]
    },
    {
     "name": "stderr",
     "output_type": "stream",
     "text": [
      "/home/davidstewart/penv-ML/lib/python3.10/site-packages/pandas/core/nanops.py:1487: RuntimeWarning: overflow encountered in cast\n",
      "  return dtype.type(n)\n",
      "/home/davidstewart/penv-ML/lib/python3.10/site-packages/numpy/core/_methods.py:49: RuntimeWarning: overflow encountered in reduce\n",
      "  return umr_sum(a, axis, dtype, out, keepdims, initial, where)\n",
      "/home/davidstewart/penv-ML/lib/python3.10/site-packages/pandas/core/nanops.py:731: RuntimeWarning: invalid value encountered in scalar divide\n",
      "  the_mean = the_sum / count if count > 0 else np.nan\n"
     ]
    },
    {
     "name": "stdout",
     "output_type": "stream",
     "text": [
      "count    1.772204e+06\n",
      "mean              NaN\n",
      "std      0.000000e+00\n",
      "min      2.085938e+00\n",
      "25%      1.728125e+01\n",
      "50%      2.353125e+01\n",
      "75%      2.912500e+01\n",
      "max      5.521875e+01\n",
      "Name: corr_pt, dtype: float64\n",
      "Reading 1 of 16 : file ../Xsec_groups/df_Xsec_6_clean.parquet\n",
      "pre-match-cut size: 2053913\n",
      "post-match-cut size: 2053913\n",
      "64185/64185 [==============================] - 61s 945us/step\n"
     ]
    },
    {
     "name": "stderr",
     "output_type": "stream",
     "text": [
      "/home/davidstewart/penv-ML/lib/python3.10/site-packages/pandas/core/nanops.py:1487: RuntimeWarning: overflow encountered in cast\n",
      "  return dtype.type(n)\n",
      "/home/davidstewart/penv-ML/lib/python3.10/site-packages/numpy/core/_methods.py:49: RuntimeWarning: overflow encountered in reduce\n",
      "  return umr_sum(a, axis, dtype, out, keepdims, initial, where)\n",
      "/home/davidstewart/penv-ML/lib/python3.10/site-packages/pandas/core/nanops.py:731: RuntimeWarning: invalid value encountered in scalar divide\n",
      "  the_mean = the_sum / count if count > 0 else np.nan\n"
     ]
    },
    {
     "name": "stdout",
     "output_type": "stream",
     "text": [
      "count    2.053913e+06\n",
      "mean              NaN\n",
      "std      0.000000e+00\n",
      "min      2.332031e+00\n",
      "25%      2.687500e+01\n",
      "50%      3.418750e+01\n",
      "75%      4.015625e+01\n",
      "max      6.009375e+01\n",
      "Name: corr_pt, dtype: float64\n",
      "Reading 2 of 16 : file ../Xsec_groups/df_Xsec_14_clean.parquet\n",
      "pre-match-cut size: 1111193\n",
      "post-match-cut size: 1111193\n",
      "34725/34725 [==============================] - 32s 925us/step\n"
     ]
    },
    {
     "name": "stderr",
     "output_type": "stream",
     "text": [
      "/home/davidstewart/penv-ML/lib/python3.10/site-packages/pandas/core/nanops.py:1487: RuntimeWarning: overflow encountered in cast\n",
      "  return dtype.type(n)\n",
      "/home/davidstewart/penv-ML/lib/python3.10/site-packages/numpy/core/_methods.py:49: RuntimeWarning: overflow encountered in reduce\n",
      "  return umr_sum(a, axis, dtype, out, keepdims, initial, where)\n",
      "/home/davidstewart/penv-ML/lib/python3.10/site-packages/pandas/core/nanops.py:731: RuntimeWarning: invalid value encountered in scalar divide\n",
      "  the_mean = the_sum / count if count > 0 else np.nan\n"
     ]
    },
    {
     "name": "stdout",
     "output_type": "stream",
     "text": [
      "count    1.111193e+06\n",
      "mean              NaN\n",
      "std      0.000000e+00\n",
      "min      1.996094e+00\n",
      "25%      5.000000e+00\n",
      "50%      6.937500e+00\n",
      "75%      1.047656e+01\n",
      "max      3.403125e+01\n",
      "Name: corr_pt, dtype: float64\n",
      "Reading 3 of 16 : file ../Xsec_groups/df_Xsec_2_clean.parquet\n",
      "pre-match-cut size: 2412893\n",
      "post-match-cut size: 2412893\n",
      "75403/75403 [==============================] - 70s 921us/step\n"
     ]
    },
    {
     "name": "stderr",
     "output_type": "stream",
     "text": [
      "/home/davidstewart/penv-ML/lib/python3.10/site-packages/pandas/core/nanops.py:1487: RuntimeWarning: overflow encountered in cast\n",
      "  return dtype.type(n)\n",
      "/home/davidstewart/penv-ML/lib/python3.10/site-packages/numpy/core/_methods.py:49: RuntimeWarning: overflow encountered in reduce\n",
      "  return umr_sum(a, axis, dtype, out, keepdims, initial, where)\n",
      "/home/davidstewart/penv-ML/lib/python3.10/site-packages/pandas/core/nanops.py:731: RuntimeWarning: invalid value encountered in scalar divide\n",
      "  the_mean = the_sum / count if count > 0 else np.nan\n"
     ]
    },
    {
     "name": "stdout",
     "output_type": "stream",
     "text": [
      "count    2.412893e+06\n",
      "mean              NaN\n",
      "std      0.000000e+00\n",
      "min      2.166016e+00\n",
      "25%      4.040625e+01\n",
      "50%      4.812500e+01\n",
      "75%      5.371875e+01\n",
      "max      6.593750e+01\n",
      "Name: corr_pt, dtype: float64\n",
      "Reading 4 of 16 : file ../Xsec_groups/df_Xsec_12_clean.parquet\n",
      "pre-match-cut size: 1412527\n",
      "post-match-cut size: 1412527\n",
      "44142/44142 [==============================] - 41s 926us/step\n"
     ]
    },
    {
     "name": "stderr",
     "output_type": "stream",
     "text": [
      "/home/davidstewart/penv-ML/lib/python3.10/site-packages/pandas/core/nanops.py:1487: RuntimeWarning: overflow encountered in cast\n",
      "  return dtype.type(n)\n",
      "/home/davidstewart/penv-ML/lib/python3.10/site-packages/numpy/core/_methods.py:49: RuntimeWarning: overflow encountered in reduce\n",
      "  return umr_sum(a, axis, dtype, out, keepdims, initial, where)\n",
      "/home/davidstewart/penv-ML/lib/python3.10/site-packages/pandas/core/nanops.py:731: RuntimeWarning: invalid value encountered in scalar divide\n",
      "  the_mean = the_sum / count if count > 0 else np.nan\n"
     ]
    },
    {
     "name": "stdout",
     "output_type": "stream",
     "text": [
      "count    1.412527e+06\n",
      "mean              NaN\n",
      "std      0.000000e+00\n",
      "min      2.109375e+00\n",
      "25%      8.414062e+00\n",
      "50%      1.320312e+01\n",
      "75%      1.778125e+01\n",
      "max      4.506250e+01\n",
      "Name: corr_pt, dtype: float64\n",
      "Reading 5 of 16 : file ../Xsec_groups/df_Xsec_1_clean.parquet\n",
      "pre-match-cut size: 2507006\n",
      "post-match-cut size: 2507006\n",
      "78344/78344 [==============================] - 70s 891us/step\n"
     ]
    },
    {
     "name": "stderr",
     "output_type": "stream",
     "text": [
      "/home/davidstewart/penv-ML/lib/python3.10/site-packages/pandas/core/nanops.py:1487: RuntimeWarning: overflow encountered in cast\n",
      "  return dtype.type(n)\n",
      "/home/davidstewart/penv-ML/lib/python3.10/site-packages/numpy/core/_methods.py:49: RuntimeWarning: overflow encountered in reduce\n",
      "  return umr_sum(a, axis, dtype, out, keepdims, initial, where)\n",
      "/home/davidstewart/penv-ML/lib/python3.10/site-packages/pandas/core/nanops.py:731: RuntimeWarning: invalid value encountered in scalar divide\n",
      "  the_mean = the_sum / count if count > 0 else np.nan\n"
     ]
    },
    {
     "name": "stdout",
     "output_type": "stream",
     "text": [
      "count    2.507006e+06\n",
      "mean              NaN\n",
      "std      0.000000e+00\n",
      "min      2.363281e+00\n",
      "25%      4.365625e+01\n",
      "50%      5.140625e+01\n",
      "75%      5.603125e+01\n",
      "max      6.631250e+01\n",
      "Name: corr_pt, dtype: float64\n",
      "Reading 6 of 16 : file ../Xsec_groups/df_Xsec_0_clean.parquet\n",
      "pre-match-cut size: 2594597\n",
      "post-match-cut size: 2594597\n",
      "81082/81082 [==============================] - 76s 937us/step\n"
     ]
    },
    {
     "name": "stderr",
     "output_type": "stream",
     "text": [
      "/home/davidstewart/penv-ML/lib/python3.10/site-packages/pandas/core/nanops.py:1487: RuntimeWarning: overflow encountered in cast\n",
      "  return dtype.type(n)\n",
      "/home/davidstewart/penv-ML/lib/python3.10/site-packages/numpy/core/_methods.py:49: RuntimeWarning: overflow encountered in reduce\n",
      "  return umr_sum(a, axis, dtype, out, keepdims, initial, where)\n",
      "/home/davidstewart/penv-ML/lib/python3.10/site-packages/pandas/core/nanops.py:731: RuntimeWarning: invalid value encountered in scalar divide\n",
      "  the_mean = the_sum / count if count > 0 else np.nan\n"
     ]
    },
    {
     "name": "stdout",
     "output_type": "stream",
     "text": [
      "count    2.594597e+06\n",
      "mean              NaN\n",
      "std      0.000000e+00\n",
      "min      2.417969e+00\n",
      "25%      4.671875e+01\n",
      "50%      5.390625e+01\n",
      "75%      5.750000e+01\n",
      "max      6.706250e+01\n",
      "Name: corr_pt, dtype: float64\n",
      "Reading 7 of 16 : file ../Xsec_groups/df_Xsec_5_clean.parquet\n",
      "pre-match-cut size: 2140449\n",
      "post-match-cut size: 2140449\n",
      "66890/66890 [==============================] - 62s 931us/step\n"
     ]
    },
    {
     "name": "stderr",
     "output_type": "stream",
     "text": [
      "/home/davidstewart/penv-ML/lib/python3.10/site-packages/pandas/core/nanops.py:1487: RuntimeWarning: overflow encountered in cast\n",
      "  return dtype.type(n)\n",
      "/home/davidstewart/penv-ML/lib/python3.10/site-packages/numpy/core/_methods.py:49: RuntimeWarning: overflow encountered in reduce\n",
      "  return umr_sum(a, axis, dtype, out, keepdims, initial, where)\n",
      "/home/davidstewart/penv-ML/lib/python3.10/site-packages/pandas/core/nanops.py:731: RuntimeWarning: invalid value encountered in scalar divide\n",
      "  the_mean = the_sum / count if count > 0 else np.nan\n"
     ]
    },
    {
     "name": "stdout",
     "output_type": "stream",
     "text": [
      "count    2.140449e+06\n",
      "mean              NaN\n",
      "std      0.000000e+00\n",
      "min      2.121094e+00\n",
      "25%      3.034375e+01\n",
      "50%      3.778125e+01\n",
      "75%      4.378125e+01\n",
      "max      6.112500e+01\n",
      "Name: corr_pt, dtype: float64\n",
      "Reading 8 of 16 : file ../Xsec_groups/df_Xsec_15_clean.parquet\n",
      "pre-match-cut size: 910829\n",
      "post-match-cut size: 910829\n",
      "28464/28464 [==============================] - 26s 926us/step\n"
     ]
    },
    {
     "name": "stderr",
     "output_type": "stream",
     "text": [
      "/home/davidstewart/penv-ML/lib/python3.10/site-packages/pandas/core/nanops.py:1487: RuntimeWarning: overflow encountered in cast\n",
      "  return dtype.type(n)\n",
      "/home/davidstewart/penv-ML/lib/python3.10/site-packages/numpy/core/_methods.py:49: RuntimeWarning: overflow encountered in reduce\n",
      "  return umr_sum(a, axis, dtype, out, keepdims, initial, where)\n",
      "/home/davidstewart/penv-ML/lib/python3.10/site-packages/pandas/core/nanops.py:731: RuntimeWarning: invalid value encountered in scalar divide\n",
      "  the_mean = the_sum / count if count > 0 else np.nan\n"
     ]
    },
    {
     "name": "stdout",
     "output_type": "stream",
     "text": [
      "count    910829.000000\n",
      "mean               NaN\n",
      "std           0.000000\n",
      "min           1.996094\n",
      "25%           4.125000\n",
      "50%           5.484375\n",
      "75%           7.277344\n",
      "max          32.000000\n",
      "Name: corr_pt, dtype: float64\n",
      "Reading 9 of 16 : file ../Xsec_groups/df_Xsec_8_clean.parquet\n",
      "pre-match-cut size: 1873396\n",
      "post-match-cut size: 1873396\n",
      "58544/58544 [==============================] - 54s 928us/step\n"
     ]
    },
    {
     "name": "stderr",
     "output_type": "stream",
     "text": [
      "/home/davidstewart/penv-ML/lib/python3.10/site-packages/pandas/core/nanops.py:1487: RuntimeWarning: overflow encountered in cast\n",
      "  return dtype.type(n)\n",
      "/home/davidstewart/penv-ML/lib/python3.10/site-packages/numpy/core/_methods.py:49: RuntimeWarning: overflow encountered in reduce\n",
      "  return umr_sum(a, axis, dtype, out, keepdims, initial, where)\n",
      "/home/davidstewart/penv-ML/lib/python3.10/site-packages/pandas/core/nanops.py:731: RuntimeWarning: invalid value encountered in scalar divide\n",
      "  the_mean = the_sum / count if count > 0 else np.nan\n"
     ]
    },
    {
     "name": "stdout",
     "output_type": "stream",
     "text": [
      "count    1.873396e+06\n",
      "mean              NaN\n",
      "std      0.000000e+00\n",
      "min      2.117188e+00\n",
      "25%      2.031250e+01\n",
      "50%      2.696875e+01\n",
      "75%      3.278125e+01\n",
      "max      5.781250e+01\n",
      "Name: corr_pt, dtype: float64\n",
      "Reading 10 of 16 : file ../Xsec_groups/df_Xsec_3_clean.parquet\n",
      "pre-match-cut size: 2328154\n",
      "post-match-cut size: 2328154\n",
      "72755/72755 [==============================] - 67s 926us/step\n"
     ]
    },
    {
     "name": "stderr",
     "output_type": "stream",
     "text": [
      "/home/davidstewart/penv-ML/lib/python3.10/site-packages/pandas/core/nanops.py:1487: RuntimeWarning: overflow encountered in cast\n",
      "  return dtype.type(n)\n",
      "/home/davidstewart/penv-ML/lib/python3.10/site-packages/numpy/core/_methods.py:49: RuntimeWarning: overflow encountered in reduce\n",
      "  return umr_sum(a, axis, dtype, out, keepdims, initial, where)\n",
      "/home/davidstewart/penv-ML/lib/python3.10/site-packages/pandas/core/nanops.py:731: RuntimeWarning: invalid value encountered in scalar divide\n",
      "  the_mean = the_sum / count if count > 0 else np.nan\n"
     ]
    },
    {
     "name": "stdout",
     "output_type": "stream",
     "text": [
      "count    2.328154e+06\n",
      "mean              NaN\n",
      "std      0.000000e+00\n",
      "min      2.302734e+00\n",
      "25%      3.712500e+01\n",
      "50%      4.478125e+01\n",
      "75%      5.090625e+01\n",
      "max      6.346875e+01\n",
      "Name: corr_pt, dtype: float64\n",
      "Reading 11 of 16 : file ../Xsec_groups/df_Xsec_4_clean.parquet\n",
      "pre-match-cut size: 2231697\n",
      "post-match-cut size: 2231697\n",
      "69741/69741 [==============================] - 65s 935us/step\n"
     ]
    },
    {
     "name": "stderr",
     "output_type": "stream",
     "text": [
      "/home/davidstewart/penv-ML/lib/python3.10/site-packages/pandas/core/nanops.py:1487: RuntimeWarning: overflow encountered in cast\n",
      "  return dtype.type(n)\n",
      "/home/davidstewart/penv-ML/lib/python3.10/site-packages/numpy/core/_methods.py:49: RuntimeWarning: overflow encountered in reduce\n",
      "  return umr_sum(a, axis, dtype, out, keepdims, initial, where)\n",
      "/home/davidstewart/penv-ML/lib/python3.10/site-packages/pandas/core/nanops.py:731: RuntimeWarning: invalid value encountered in scalar divide\n",
      "  the_mean = the_sum / count if count > 0 else np.nan\n"
     ]
    },
    {
     "name": "stdout",
     "output_type": "stream",
     "text": [
      "count    2.231697e+06\n",
      "mean              NaN\n",
      "std      0.000000e+00\n",
      "min      2.136719e+00\n",
      "25%      3.384375e+01\n",
      "50%      4.134375e+01\n",
      "75%      4.743750e+01\n",
      "max      6.287500e+01\n",
      "Name: corr_pt, dtype: float64\n",
      "Reading 12 of 16 : file ../Xsec_groups/df_Xsec_13_clean.parquet\n",
      "pre-match-cut size: 1273512\n",
      "post-match-cut size: 1273512\n",
      "39798/39798 [==============================] - 35s 890us/step\n"
     ]
    },
    {
     "name": "stderr",
     "output_type": "stream",
     "text": [
      "/home/davidstewart/penv-ML/lib/python3.10/site-packages/pandas/core/nanops.py:1487: RuntimeWarning: overflow encountered in cast\n",
      "  return dtype.type(n)\n",
      "/home/davidstewart/penv-ML/lib/python3.10/site-packages/numpy/core/_methods.py:49: RuntimeWarning: overflow encountered in reduce\n",
      "  return umr_sum(a, axis, dtype, out, keepdims, initial, where)\n",
      "/home/davidstewart/penv-ML/lib/python3.10/site-packages/pandas/core/nanops.py:731: RuntimeWarning: invalid value encountered in scalar divide\n",
      "  the_mean = the_sum / count if count > 0 else np.nan\n"
     ]
    },
    {
     "name": "stdout",
     "output_type": "stream",
     "text": [
      "count    1.273512e+06\n",
      "mean              NaN\n",
      "std      0.000000e+00\n",
      "min      1.927734e+00\n",
      "25%      6.238281e+00\n",
      "50%      9.898438e+00\n",
      "75%      1.411719e+01\n",
      "max      3.984375e+01\n",
      "Name: corr_pt, dtype: float64\n",
      "Reading 13 of 16 : file ../Xsec_groups/df_Xsec_10_clean.parquet\n",
      "pre-match-cut size: 1663161\n",
      "post-match-cut size: 1663161\n",
      "51974/51974 [==============================] - 46s 893us/step\n"
     ]
    },
    {
     "name": "stderr",
     "output_type": "stream",
     "text": [
      "/home/davidstewart/penv-ML/lib/python3.10/site-packages/pandas/core/nanops.py:1487: RuntimeWarning: overflow encountered in cast\n",
      "  return dtype.type(n)\n",
      "/home/davidstewart/penv-ML/lib/python3.10/site-packages/numpy/core/_methods.py:49: RuntimeWarning: overflow encountered in reduce\n",
      "  return umr_sum(a, axis, dtype, out, keepdims, initial, where)\n",
      "/home/davidstewart/penv-ML/lib/python3.10/site-packages/pandas/core/nanops.py:731: RuntimeWarning: invalid value encountered in scalar divide\n",
      "  the_mean = the_sum / count if count > 0 else np.nan\n"
     ]
    },
    {
     "name": "stdout",
     "output_type": "stream",
     "text": [
      "count    1.663161e+06\n",
      "mean              NaN\n",
      "std      0.000000e+00\n",
      "min      2.136719e+00\n",
      "25%      1.426562e+01\n",
      "50%      1.993750e+01\n",
      "75%      2.531250e+01\n",
      "max      5.390625e+01\n",
      "Name: corr_pt, dtype: float64\n",
      "Reading 14 of 16 : file ../Xsec_groups/df_Xsec_7_clean.parquet\n",
      "pre-match-cut size: 1963583\n",
      "post-match-cut size: 1963583\n",
      "61362/61362 [==============================] - 57s 930us/step\n"
     ]
    },
    {
     "name": "stderr",
     "output_type": "stream",
     "text": [
      "/home/davidstewart/penv-ML/lib/python3.10/site-packages/pandas/core/nanops.py:1487: RuntimeWarning: overflow encountered in cast\n",
      "  return dtype.type(n)\n",
      "/home/davidstewart/penv-ML/lib/python3.10/site-packages/numpy/core/_methods.py:49: RuntimeWarning: overflow encountered in reduce\n",
      "  return umr_sum(a, axis, dtype, out, keepdims, initial, where)\n",
      "/home/davidstewart/penv-ML/lib/python3.10/site-packages/pandas/core/nanops.py:731: RuntimeWarning: invalid value encountered in scalar divide\n",
      "  the_mean = the_sum / count if count > 0 else np.nan\n"
     ]
    },
    {
     "name": "stdout",
     "output_type": "stream",
     "text": [
      "count    1.963583e+06\n",
      "mean              NaN\n",
      "std      0.000000e+00\n",
      "min      2.250000e+00\n",
      "25%      2.353125e+01\n",
      "50%      3.059375e+01\n",
      "75%      3.646875e+01\n",
      "max      5.843750e+01\n",
      "Name: corr_pt, dtype: float64\n",
      "Reading 15 of 16 : file ../Xsec_groups/df_Xsec_11_clean.parquet\n",
      "pre-match-cut size: 1551481\n",
      "post-match-cut size: 1551481\n",
      "48484/48484 [==============================] - 45s 923us/step\n"
     ]
    },
    {
     "name": "stderr",
     "output_type": "stream",
     "text": [
      "/home/davidstewart/penv-ML/lib/python3.10/site-packages/pandas/core/nanops.py:1487: RuntimeWarning: overflow encountered in cast\n",
      "  return dtype.type(n)\n",
      "/home/davidstewart/penv-ML/lib/python3.10/site-packages/numpy/core/_methods.py:49: RuntimeWarning: overflow encountered in reduce\n",
      "  return umr_sum(a, axis, dtype, out, keepdims, initial, where)\n",
      "/home/davidstewart/penv-ML/lib/python3.10/site-packages/pandas/core/nanops.py:731: RuntimeWarning: invalid value encountered in scalar divide\n",
      "  the_mean = the_sum / count if count > 0 else np.nan\n"
     ]
    },
    {
     "name": "stdout",
     "output_type": "stream",
     "text": [
      "count    1.551481e+06\n",
      "mean              NaN\n",
      "std      0.000000e+00\n",
      "min      2.152344e+00\n",
      "25%      1.131250e+01\n",
      "50%      1.646875e+01\n",
      "75%      2.153125e+01\n",
      "max      5.015625e+01\n",
      "Name: corr_pt, dtype: float64\n",
      "Done.\n"
     ]
    }
   ],
   "source": [
    "'''\n",
    "This cell: \n",
    "    read-in the Xsec_group_#.parquet files, correct, and write the short output locall\n",
    "'''\n",
    "\n",
    "import sys\n",
    "import os\n",
    "sys.path.append(os.path.abspath('../../'))\n",
    "from RunModelPrediction import runModelPrediction\n",
    "runModelPrediction('../../NeuralNetwork/train/reco_all_W/')\n"
   ]
  },
  {
   "cell_type": "code",
   "execution_count": null,
   "metadata": {},
   "outputs": [],
   "source": []
  }
 ],
 "metadata": {
  "kernelspec": {
   "display_name": "penv_ML",
   "language": "python",
   "name": "penv_ml"
  },
  "language_info": {
   "codemirror_mode": {
    "name": "ipython",
    "version": 3
   },
   "file_extension": ".py",
   "mimetype": "text/x-python",
   "name": "python",
   "nbconvert_exporter": "python",
   "pygments_lexer": "ipython3",
   "version": "3.10.12"
  }
 },
 "nbformat": 4,
 "nbformat_minor": 4
}
